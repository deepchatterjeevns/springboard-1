{
 "cells": [
  {
   "cell_type": "code",
   "execution_count": 2,
   "metadata": {},
   "outputs": [],
   "source": [
    "import seaborn as sns\n",
    "import pandas as pd\n",
    "import matplotlib.pyplot as plt\n",
    "import numpy\n",
    "import ipywidgets as widgets\n",
    "from ipywidgets import interact, interactive, fixed, interact_manual"
   ]
  },
  {
   "cell_type": "code",
   "execution_count": 49,
   "metadata": {},
   "outputs": [
    {
     "data": {
      "text/html": [
       "<div>\n",
       "<style scoped>\n",
       "    .dataframe tbody tr th:only-of-type {\n",
       "        vertical-align: middle;\n",
       "    }\n",
       "\n",
       "    .dataframe tbody tr th {\n",
       "        vertical-align: top;\n",
       "    }\n",
       "\n",
       "    .dataframe thead th {\n",
       "        text-align: right;\n",
       "    }\n",
       "</style>\n",
       "<table border=\"1\" class=\"dataframe\">\n",
       "  <thead>\n",
       "    <tr style=\"text-align: right;\">\n",
       "      <th></th>\n",
       "      <th>Unnamed: 0</th>\n",
       "      <th>Player</th>\n",
       "      <th>season</th>\n",
       "      <th>NBA_Salary</th>\n",
       "      <th>Class</th>\n",
       "      <th>Pos</th>\n",
       "      <th>School</th>\n",
       "      <th>Conf</th>\n",
       "      <th>G</th>\n",
       "      <th>MP</th>\n",
       "      <th>...</th>\n",
       "      <th>PPG</th>\n",
       "      <th>APG</th>\n",
       "      <th>TRB/G</th>\n",
       "      <th>STL/G</th>\n",
       "      <th>TOV/G</th>\n",
       "      <th>BLK/G</th>\n",
       "      <th>3P%</th>\n",
       "      <th>FG%</th>\n",
       "      <th>eFG%</th>\n",
       "      <th>sal_as_%</th>\n",
       "    </tr>\n",
       "  </thead>\n",
       "  <tbody>\n",
       "    <tr>\n",
       "      <th>0</th>\n",
       "      <td>0</td>\n",
       "      <td>A.J. Hammons</td>\n",
       "      <td>2016</td>\n",
       "      <td>650000</td>\n",
       "      <td>4</td>\n",
       "      <td>C</td>\n",
       "      <td>Purdue</td>\n",
       "      <td>Big Ten</td>\n",
       "      <td>33</td>\n",
       "      <td>813.0</td>\n",
       "      <td>...</td>\n",
       "      <td>14.969697</td>\n",
       "      <td>1.121212</td>\n",
       "      <td>8.181818</td>\n",
       "      <td>0.272727</td>\n",
       "      <td>1.969697</td>\n",
       "      <td>2.545455</td>\n",
       "      <td>0.545455</td>\n",
       "      <td>0.592262</td>\n",
       "      <td>0.601190</td>\n",
       "      <td>0.006904</td>\n",
       "    </tr>\n",
       "    <tr>\n",
       "      <th>1</th>\n",
       "      <td>1</td>\n",
       "      <td>A.J. Price</td>\n",
       "      <td>2009</td>\n",
       "      <td>62552</td>\n",
       "      <td>4</td>\n",
       "      <td>G</td>\n",
       "      <td>Connecticut</td>\n",
       "      <td>Big East</td>\n",
       "      <td>35</td>\n",
       "      <td>1112.0</td>\n",
       "      <td>...</td>\n",
       "      <td>14.714286</td>\n",
       "      <td>4.685714</td>\n",
       "      <td>3.485714</td>\n",
       "      <td>0.685714</td>\n",
       "      <td>2.685714</td>\n",
       "      <td>0.000000</td>\n",
       "      <td>0.401961</td>\n",
       "      <td>0.407674</td>\n",
       "      <td>0.505995</td>\n",
       "      <td>0.001084</td>\n",
       "    </tr>\n",
       "    <tr>\n",
       "      <th>2</th>\n",
       "      <td>2</td>\n",
       "      <td>Aaron Brooks</td>\n",
       "      <td>2007</td>\n",
       "      <td>972720</td>\n",
       "      <td>4</td>\n",
       "      <td>G</td>\n",
       "      <td>Oregon</td>\n",
       "      <td>Pac-10</td>\n",
       "      <td>35</td>\n",
       "      <td>1289.0</td>\n",
       "      <td>...</td>\n",
       "      <td>17.742857</td>\n",
       "      <td>4.257143</td>\n",
       "      <td>4.257143</td>\n",
       "      <td>1.371429</td>\n",
       "      <td>2.542857</td>\n",
       "      <td>0.171429</td>\n",
       "      <td>0.404040</td>\n",
       "      <td>0.460043</td>\n",
       "      <td>0.546436</td>\n",
       "      <td>0.017486</td>\n",
       "    </tr>\n",
       "    <tr>\n",
       "      <th>3</th>\n",
       "      <td>3</td>\n",
       "      <td>Aaron Gray</td>\n",
       "      <td>2007</td>\n",
       "      <td>427163</td>\n",
       "      <td>4</td>\n",
       "      <td>C</td>\n",
       "      <td>Pittsburgh</td>\n",
       "      <td>Big East</td>\n",
       "      <td>36</td>\n",
       "      <td>1016.0</td>\n",
       "      <td>...</td>\n",
       "      <td>13.861111</td>\n",
       "      <td>1.694444</td>\n",
       "      <td>9.472222</td>\n",
       "      <td>0.416667</td>\n",
       "      <td>1.527778</td>\n",
       "      <td>1.722222</td>\n",
       "      <td>0.000000</td>\n",
       "      <td>0.565097</td>\n",
       "      <td>0.565097</td>\n",
       "      <td>0.007679</td>\n",
       "    </tr>\n",
       "    <tr>\n",
       "      <th>4</th>\n",
       "      <td>4</td>\n",
       "      <td>Acie Law</td>\n",
       "      <td>2007</td>\n",
       "      <td>203057</td>\n",
       "      <td>4</td>\n",
       "      <td>G</td>\n",
       "      <td>Texas A&amp;M</td>\n",
       "      <td>Big 12</td>\n",
       "      <td>34</td>\n",
       "      <td>1153.0</td>\n",
       "      <td>...</td>\n",
       "      <td>18.058824</td>\n",
       "      <td>4.970588</td>\n",
       "      <td>3.323529</td>\n",
       "      <td>1.147059</td>\n",
       "      <td>2.588235</td>\n",
       "      <td>0.029412</td>\n",
       "      <td>0.457831</td>\n",
       "      <td>0.500000</td>\n",
       "      <td>0.543981</td>\n",
       "      <td>0.003650</td>\n",
       "    </tr>\n",
       "  </tbody>\n",
       "</table>\n",
       "<p>5 rows × 37 columns</p>\n",
       "</div>"
      ],
      "text/plain": [
       "   Unnamed: 0        Player  season  NBA_Salary  Class Pos       School  \\\n",
       "0           0  A.J. Hammons    2016      650000      4   C       Purdue   \n",
       "1           1    A.J. Price    2009       62552      4   G  Connecticut   \n",
       "2           2  Aaron Brooks    2007      972720      4   G       Oregon   \n",
       "3           3    Aaron Gray    2007      427163      4   C   Pittsburgh   \n",
       "4           4      Acie Law    2007      203057      4   G    Texas A&M   \n",
       "\n",
       "       Conf   G      MP  ...        PPG       APG     TRB/G     STL/G  \\\n",
       "0   Big Ten  33   813.0  ...  14.969697  1.121212  8.181818  0.272727   \n",
       "1  Big East  35  1112.0  ...  14.714286  4.685714  3.485714  0.685714   \n",
       "2    Pac-10  35  1289.0  ...  17.742857  4.257143  4.257143  1.371429   \n",
       "3  Big East  36  1016.0  ...  13.861111  1.694444  9.472222  0.416667   \n",
       "4    Big 12  34  1153.0  ...  18.058824  4.970588  3.323529  1.147059   \n",
       "\n",
       "      TOV/G     BLK/G       3P%       FG%      eFG%  sal_as_%  \n",
       "0  1.969697  2.545455  0.545455  0.592262  0.601190  0.006904  \n",
       "1  2.685714  0.000000  0.401961  0.407674  0.505995  0.001084  \n",
       "2  2.542857  0.171429  0.404040  0.460043  0.546436  0.017486  \n",
       "3  1.527778  1.722222  0.000000  0.565097  0.565097  0.007679  \n",
       "4  2.588235  0.029412  0.457831  0.500000  0.543981  0.003650  \n",
       "\n",
       "[5 rows x 37 columns]"
      ]
     },
     "execution_count": 49,
     "metadata": {},
     "output_type": "execute_result"
    }
   ],
   "source": [
    "salary = pd.read_csv('Final.csv')\n",
    "salary.head()"
   ]
  },
  {
   "cell_type": "code",
   "execution_count": 50,
   "metadata": {},
   "outputs": [],
   "source": [
    "per_36 = pd.read_csv('per_36_final.csv')"
   ]
  },
  {
   "cell_type": "code",
   "execution_count": 27,
   "metadata": {},
   "outputs": [
    {
     "name": "stdout",
     "output_type": "stream",
     "text": [
      "<class 'pandas.core.frame.DataFrame'>\n",
      "RangeIndex: 411 entries, 0 to 410\n",
      "Data columns (total 37 columns):\n",
      "Unnamed: 0    411 non-null int64\n",
      "Player        411 non-null object\n",
      "season        411 non-null int64\n",
      "NBA_Salary    411 non-null int64\n",
      "Class         411 non-null int64\n",
      "Pos           411 non-null object\n",
      "School        411 non-null object\n",
      "Conf          411 non-null object\n",
      "G             411 non-null int64\n",
      "MP            411 non-null float64\n",
      "FG            411 non-null int64\n",
      "FGA           411 non-null int64\n",
      "2P            411 non-null int64\n",
      "2PA           411 non-null int64\n",
      "3P            411 non-null int64\n",
      "3PA           411 non-null int64\n",
      "FT            411 non-null int64\n",
      "FTA           411 non-null int64\n",
      "ORB           411 non-null float64\n",
      "DRB           411 non-null float64\n",
      "TRB           411 non-null int64\n",
      "AST           411 non-null int64\n",
      "STL           411 non-null int64\n",
      "BLK           411 non-null int64\n",
      "TOV           411 non-null float64\n",
      "PF            411 non-null float64\n",
      "PTS           411 non-null int64\n",
      "PPG           411 non-null float64\n",
      "APG           411 non-null float64\n",
      "TRB/G         411 non-null float64\n",
      "STL/G         411 non-null float64\n",
      "TOV/G         411 non-null float64\n",
      "BLK/G         411 non-null float64\n",
      "3P%           411 non-null float64\n",
      "FG%           411 non-null float64\n",
      "eFG%          411 non-null float64\n",
      "sal_as_%      411 non-null float64\n",
      "dtypes: float64(15), int64(18), object(4)\n",
      "memory usage: 118.9+ KB\n"
     ]
    }
   ],
   "source": [
    "#Viewing all columns in the dataframe\n",
    "salary.info()"
   ]
  },
  {
   "cell_type": "markdown",
   "metadata": {},
   "source": [
    "Now that we have a clean dataset, we want to explore the relationships between the NBA \n",
    "salary and different statistics from the last year each player played in college. Are there any college statistics that contribute to their NBA salary?"
   ]
  },
  {
   "cell_type": "code",
   "execution_count": 118,
   "metadata": {},
   "outputs": [
    {
     "data": {
      "text/plain": [
       "<matplotlib.collections.PathCollection at 0x1a1b5ddf98>"
      ]
     },
     "execution_count": 118,
     "metadata": {},
     "output_type": "execute_result"
    },
    {
     "data": {
      "image/png": "[encoded data removed]",
      "text/plain": [
       "<Figure size 432x288 with 1 Axes>"
      ]
     },
     "metadata": {
      "needs_background": "light"
     },
     "output_type": "display_data"
    }
   ],
   "source": [
    "#Creating a scatterplot to show the first year salary throughout the years\n",
    "plt.scatter('season','NBA_Salary', data = salary)"
   ]
  },
  {
   "cell_type": "code",
   "execution_count": 119,
   "metadata": {},
   "outputs": [
    {
     "data": {
      "text/plain": [
       "<matplotlib.collections.PathCollection at 0x1a1b72b6d8>"
      ]
     },
     "execution_count": 119,
     "metadata": {},
     "output_type": "execute_result"
    },
    {
     "data": {
      "image/png": "[encoded data removed]",
      "text/plain": [
       "<Figure size 432x288 with 1 Axes>"
      ]
     },
     "metadata": {
      "needs_background": "light"
     },
     "output_type": "display_data"
    }
   ],
   "source": [
    "plt.scatter('season', 'sal_as_%', data = salary)"
   ]
  },
  {
   "cell_type": "code",
   "execution_count": null,
   "metadata": {},
   "outputs": [],
   "source": []
  },
  {
   "cell_type": "markdown",
   "metadata": {},
   "source": [
    "We see that there is an increasing first year salary throughout the years. Are there any other patterns that we can find?"
   ]
  },
  {
   "cell_type": "code",
   "execution_count": 28,
   "metadata": {},
   "outputs": [
    {
     "data": {
      "text/plain": [
       "<matplotlib.axes._subplots.AxesSubplot at 0x1a18b7e5f8>"
      ]
     },
     "execution_count": 28,
     "metadata": {},
     "output_type": "execute_result"
    },
    {
     "data": {
      "image/png": "[encoded data removed]",
      "text/plain": [
       "<Figure size 432x288 with 1 Axes>"
      ]
     },
     "metadata": {
      "needs_background": "light"
     },
     "output_type": "display_data"
    }
   ],
   "source": [
    "sns.swarmplot('Class', 'sal_as_%', data = salary)"
   ]
  },
  {
   "cell_type": "markdown",
   "metadata": {},
   "source": [
    "There is a wider spread for rookies that play less years in college. It appears that the longer that the player stays in college, the lower their rookie salary will be. What about the correlation coefficient for NBA salary vs Class?"
   ]
  },
  {
   "cell_type": "markdown",
   "metadata": {},
   "source": [
    "Next we want to view the relationships between stats and salary throughout the NBA coming out of college."
   ]
  },
  {
   "cell_type": "code",
   "execution_count": 30,
   "metadata": {},
   "outputs": [
    {
     "data": {
      "text/plain": [
       "Text(0, 0.5, 'Rookie Salary')"
      ]
     },
     "execution_count": 30,
     "metadata": {},
     "output_type": "execute_result"
    },
    {
     "data": {
      "image/png": "[encoded data removed]",
      "text/plain": [
       "<Figure size 432x288 with 1 Axes>"
      ]
     },
     "metadata": {
      "needs_background": "light"
     },
     "output_type": "display_data"
    }
   ],
   "source": [
    "#PTS vs Salary\n",
    "plt.scatter('PTS','sal_as_%', data = salary)\n",
    "plt.xlabel('Total points in last college season')\n",
    "plt.ylabel('Rookie Salary')"
   ]
  },
  {
   "cell_type": "code",
   "execution_count": 31,
   "metadata": {},
   "outputs": [
    {
     "data": {
      "text/plain": [
       "Text(0, 0.5, 'Rookie Salary')"
      ]
     },
     "execution_count": 31,
     "metadata": {},
     "output_type": "execute_result"
    },
    {
     "data": {
      "image/png": "[encoded data removed]",
      "text/plain": [
       "<Figure size 432x288 with 1 Axes>"
      ]
     },
     "metadata": {
      "needs_background": "light"
     },
     "output_type": "display_data"
    }
   ],
   "source": [
    "plt.scatter('FG%', 'sal_as_%', data = salary)\n",
    "plt.xlabel('Field Goal % in last college season')\n",
    "plt.ylabel('Rookie Salary')"
   ]
  },
  {
   "cell_type": "code",
   "execution_count": 32,
   "metadata": {},
   "outputs": [
    {
     "data": {
      "text/plain": [
       "Text(0, 0.5, 'Rookie Salary')"
      ]
     },
     "execution_count": 32,
     "metadata": {},
     "output_type": "execute_result"
    },
    {
     "data": {
      "image/png": "[encoded data removed]",
      "text/plain": [
       "<Figure size 432x288 with 1 Axes>"
      ]
     },
     "metadata": {
      "needs_background": "light"
     },
     "output_type": "display_data"
    }
   ],
   "source": [
    "plt.scatter('3P', 'sal_as_%', data = salary)\n",
    "plt.xlabel('3 pointers made in last college season')\n",
    "plt.ylabel('Rookie Salary')"
   ]
  },
  {
   "cell_type": "code",
   "execution_count": 33,
   "metadata": {},
   "outputs": [
    {
     "data": {
      "text/plain": [
       "Text(0, 0.5, 'Rookie Salary')"
      ]
     },
     "execution_count": 33,
     "metadata": {},
     "output_type": "execute_result"
    },
    {
     "data": {
      "image/png": "[encoded data removed]",
      "text/plain": [
       "<Figure size 432x288 with 1 Axes>"
      ]
     },
     "metadata": {
      "needs_background": "light"
     },
     "output_type": "display_data"
    }
   ],
   "source": [
    "plt.scatter('3P%', 'sal_as_%', data = salary)\n",
    "plt.xlabel('3-point % in last college season')\n",
    "plt.ylabel('Rookie Salary')"
   ]
  },
  {
   "cell_type": "code",
   "execution_count": 34,
   "metadata": {},
   "outputs": [
    {
     "data": {
      "text/plain": [
       "Text(0, 0.5, 'Rookie Salary')"
      ]
     },
     "execution_count": 34,
     "metadata": {},
     "output_type": "execute_result"
    },
    {
     "data": {
      "image/png": "[encoded data removed]",
      "text/plain": [
       "<Figure size 432x288 with 1 Axes>"
      ]
     },
     "metadata": {
      "needs_background": "light"
     },
     "output_type": "display_data"
    }
   ],
   "source": [
    "#eFG is a (abbreviated eFG%) is a statistic that adjusts field goal percentage to account for the fact that \n",
    "#three-point field goals count for three points while field goals only count for two points.\n",
    "plt.scatter('eFG%', 'sal_as_%', data = salary)\n",
    "plt.xlabel('Effective field goal % in last college season')\n",
    "plt.ylabel('Rookie Salary')"
   ]
  },
  {
   "cell_type": "code",
   "execution_count": 35,
   "metadata": {},
   "outputs": [
    {
     "data": {
      "text/plain": [
       "Text(0, 0.5, 'Rookie Salary')"
      ]
     },
     "execution_count": 35,
     "metadata": {},
     "output_type": "execute_result"
    },
    {
     "data": {
      "image/png": "[encoded data removed]",
      "text/plain": [
       "<Figure size 432x288 with 1 Axes>"
      ]
     },
     "metadata": {
      "needs_background": "light"
     },
     "output_type": "display_data"
    }
   ],
   "source": [
    "plt.scatter('PPG', 'sal_as_%', data = salary)\n",
    "plt.xlabel('Points per game in last college season')\n",
    "plt.ylabel('Rookie Salary')"
   ]
  },
  {
   "cell_type": "markdown",
   "metadata": {},
   "source": [
    "Points are not a very good explanatory variable for salary earned in the first year"
   ]
  },
  {
   "cell_type": "code",
   "execution_count": 36,
   "metadata": {
    "scrolled": true
   },
   "outputs": [
    {
     "data": {
      "text/plain": [
       "Text(0, 0.5, 'Rookie Salary')"
      ]
     },
     "execution_count": 36,
     "metadata": {},
     "output_type": "execute_result"
    },
    {
     "data": {
      "image/png": "[encoded data removed]",
      "text/plain": [
       "<Figure size 432x288 with 1 Axes>"
      ]
     },
     "metadata": {
      "needs_background": "light"
     },
     "output_type": "display_data"
    }
   ],
   "source": [
    "plt.scatter('TRB','sal_as_%', data = salary)\n",
    "plt.xlabel('Total rebounds in last college season')\n",
    "plt.ylabel('Rookie Salary')"
   ]
  },
  {
   "cell_type": "code",
   "execution_count": 37,
   "metadata": {},
   "outputs": [
    {
     "data": {
      "text/plain": [
       "Text(0, 0.5, 'Rookie Salary')"
      ]
     },
     "execution_count": 37,
     "metadata": {},
     "output_type": "execute_result"
    },
    {
     "data": {
      "image/png": "[encoded data removed]",
      "text/plain": [
       "<Figure size 432x288 with 1 Axes>"
      ]
     },
     "metadata": {
      "needs_background": "light"
     },
     "output_type": "display_data"
    }
   ],
   "source": [
    "plt.scatter('TRB/G', 'sal_as_%', data = salary)\n",
    "plt.xlabel('Total rebounds per game in last college season')\n",
    "plt.ylabel('Rookie Salary')"
   ]
  },
  {
   "cell_type": "markdown",
   "metadata": {},
   "source": [
    "Total rebounds isn't a very good predictor for salary"
   ]
  },
  {
   "cell_type": "code",
   "execution_count": 38,
   "metadata": {},
   "outputs": [
    {
     "data": {
      "text/plain": [
       "Text(0, 0.5, 'Rookie Salary')"
      ]
     },
     "execution_count": 38,
     "metadata": {},
     "output_type": "execute_result"
    },
    {
     "data": {
      "image/png": "[encoded data removed]",
      "text/plain": [
       "<Figure size 432x288 with 1 Axes>"
      ]
     },
     "metadata": {
      "needs_background": "light"
     },
     "output_type": "display_data"
    }
   ],
   "source": [
    "plt.scatter('AST','sal_as_%', data = salary)\n",
    "plt.xlabel('Total Assists in last college season')\n",
    "plt.ylabel('Rookie Salary')"
   ]
  },
  {
   "cell_type": "code",
   "execution_count": 39,
   "metadata": {},
   "outputs": [
    {
     "data": {
      "text/plain": [
       "Text(0, 0.5, 'Rookie Salary')"
      ]
     },
     "execution_count": 39,
     "metadata": {},
     "output_type": "execute_result"
    },
    {
     "data": {
      "image/png": "[encoded data removed]",
      "text/plain": [
       "<Figure size 432x288 with 1 Axes>"
      ]
     },
     "metadata": {
      "needs_background": "light"
     },
     "output_type": "display_data"
    }
   ],
   "source": [
    "plt.scatter('APG', 'sal_as_%', data = salary)\n",
    "plt.xlabel('Assists per game in last college season')\n",
    "plt.ylabel('Rookie Salary')"
   ]
  },
  {
   "cell_type": "code",
   "execution_count": 40,
   "metadata": {},
   "outputs": [
    {
     "data": {
      "text/plain": [
       "Text(0, 0.5, 'Rookie Salary')"
      ]
     },
     "execution_count": 40,
     "metadata": {},
     "output_type": "execute_result"
    },
    {
     "data": {
      "image/png": "[encoded data removed]",
      "text/plain": [
       "<Figure size 432x288 with 1 Axes>"
      ]
     },
     "metadata": {
      "needs_background": "light"
     },
     "output_type": "display_data"
    }
   ],
   "source": [
    "plt.scatter('STL', 'sal_as_%', data = salary)\n",
    "plt.xlabel('Total steals in last college season')\n",
    "plt.ylabel('Rookie Salary')"
   ]
  },
  {
   "cell_type": "code",
   "execution_count": 41,
   "metadata": {},
   "outputs": [
    {
     "data": {
      "text/plain": [
       "Text(0, 0.5, 'Rookie Salary')"
      ]
     },
     "execution_count": 41,
     "metadata": {},
     "output_type": "execute_result"
    },
    {
     "data": {
      "image/png": "[encoded data removed]",
      "text/plain": [
       "<Figure size 432x288 with 1 Axes>"
      ]
     },
     "metadata": {
      "needs_background": "light"
     },
     "output_type": "display_data"
    }
   ],
   "source": [
    "plt.scatter('STL/G', 'sal_as_%', data = salary)\n",
    "plt.xlabel('Steals per game in last college season')\n",
    "plt.ylabel('Rookie Salary')"
   ]
  },
  {
   "cell_type": "code",
   "execution_count": 42,
   "metadata": {},
   "outputs": [
    {
     "data": {
      "text/plain": [
       "Text(0, 0.5, 'Rookie Salary')"
      ]
     },
     "execution_count": 42,
     "metadata": {},
     "output_type": "execute_result"
    },
    {
     "data": {
      "image/png": "[encoded data removed]",
      "text/plain": [
       "<Figure size 432x288 with 1 Axes>"
      ]
     },
     "metadata": {
      "needs_background": "light"
     },
     "output_type": "display_data"
    }
   ],
   "source": [
    "plt.scatter('BLK', 'sal_as_%', data = salary)\n",
    "plt.xlabel('Total blocks in last college season')\n",
    "plt.ylabel('Rookie Salary')"
   ]
  },
  {
   "cell_type": "code",
   "execution_count": 43,
   "metadata": {},
   "outputs": [
    {
     "data": {
      "text/plain": [
       "Text(0, 0.5, 'Rookie Salary')"
      ]
     },
     "execution_count": 43,
     "metadata": {},
     "output_type": "execute_result"
    },
    {
     "data": {
      "image/png": "[encoded data removed]",
      "text/plain": [
       "<Figure size 432x288 with 1 Axes>"
      ]
     },
     "metadata": {
      "needs_background": "light"
     },
     "output_type": "display_data"
    }
   ],
   "source": [
    "plt.scatter('BLK/G', 'sal_as_%', data = salary)\n",
    "plt.xlabel('Blocks per game in last college season')\n",
    "plt.ylabel('Rookie Salary')"
   ]
  },
  {
   "cell_type": "code",
   "execution_count": 44,
   "metadata": {},
   "outputs": [
    {
     "data": {
      "text/plain": [
       "Text(0, 0.5, 'Number of players with the salary')"
      ]
     },
     "execution_count": 44,
     "metadata": {},
     "output_type": "execute_result"
    },
    {
     "data": {
      "image/png": "[encoded data removed]",
      "text/plain": [
       "<Figure size 432x288 with 1 Axes>"
      ]
     },
     "metadata": {
      "needs_background": "light"
     },
     "output_type": "display_data"
    }
   ],
   "source": [
    "plt.hist('sal_as_%', bins = 50, data = salary)\n",
    "plt.xlabel('Rookie year salary')\n",
    "plt.ylabel('Number of players with the salary')"
   ]
  },
  {
   "cell_type": "markdown",
   "metadata": {},
   "source": [
    "The above is a distribution of the first year rookie salaries. We can see that most rookie salaries make very little compared to the high end ones. "
   ]
  },
  {
   "cell_type": "code",
   "execution_count": 45,
   "metadata": {},
   "outputs": [
    {
     "data": {
      "image/png": "[encoded data removed]",
      "text/plain": [
       "<Figure size 432x288 with 2 Axes>"
      ]
     },
     "metadata": {
      "needs_background": "light"
     },
     "output_type": "display_data"
    }
   ],
   "source": [
    "#Correlation matrix heat map\n",
    "heat_map = sns.heatmap(salary.corr(), \n",
    "                      vmin = -1,\n",
    "                      vmax = 1,\n",
    "                      center = 0,\n",
    "                       cmap = 'Purples',\n",
    "                      square = True)"
   ]
  },
  {
   "cell_type": "markdown",
   "metadata": {},
   "source": [
    "From the correlation matrix, we can see that a majority of the college statistics do not have a strong correlation with NBA salary."
   ]
  },
  {
   "cell_type": "code",
   "execution_count": 82,
   "metadata": {},
   "outputs": [
    {
     "data": {
      "text/plain": [
       "Unnamed: 0   -0.100709\n",
       "season        0.082723\n",
       "NBA_Salary    0.938823\n",
       "Class        -0.473962\n",
       "G             0.134565\n",
       "MP            0.119855\n",
       "FG            0.147153\n",
       "FGA           0.041014\n",
       "2P            0.159048\n",
       "2PA           0.116615\n",
       "3P           -0.066531\n",
       "3PA          -0.070791\n",
       "FT            0.146446\n",
       "FTA           0.189348\n",
       "ORB           0.124088\n",
       "DRB           0.195404\n",
       "TRB           0.178139\n",
       "AST           0.057760\n",
       "STL           0.138736\n",
       "BLK           0.183112\n",
       "TOV           0.146095\n",
       "PF            0.104875\n",
       "PTS           0.143053\n",
       "PPG           0.070496\n",
       "APG           0.044793\n",
       "TRB/G         0.142421\n",
       "STL/G         0.114566\n",
       "TOV/G         0.102578\n",
       "BLK/G         0.165515\n",
       "3P%          -0.110028\n",
       "FG%           0.152206\n",
       "eFG%          0.113904\n",
       "sal_as_%      1.000000\n",
       "Name: sal_as_%, dtype: float64"
      ]
     },
     "execution_count": 82,
     "metadata": {},
     "output_type": "execute_result"
    }
   ],
   "source": [
    "#Displaying all the pearson correlation coefficients for NBA Salary\n",
    "c = salary.corr(method = 'pearson')\n",
    "c.loc[:,'sal_as_%']"
   ]
  },
  {
   "cell_type": "code",
   "execution_count": 83,
   "metadata": {},
   "outputs": [
    {
     "data": {
      "text/plain": [
       "Unnamed: 0   -0.100709\n",
       "season        0.082723\n",
       "NBA_Salary    0.938823\n",
       "Class        -0.473962\n",
       "G             0.134565\n",
       "MP            0.119855\n",
       "FG            0.147153\n",
       "FGA           0.041014\n",
       "2P            0.159048\n",
       "2PA           0.116615\n",
       "3P           -0.066531\n",
       "3PA          -0.070791\n",
       "FT            0.146446\n",
       "FTA           0.189348\n",
       "ORB           0.124088\n",
       "DRB           0.195404\n",
       "TRB           0.178139\n",
       "AST           0.057760\n",
       "STL           0.138736\n",
       "BLK           0.183112\n",
       "TOV           0.146095\n",
       "PF            0.104875\n",
       "PTS           0.143053\n",
       "PPG           0.070496\n",
       "APG           0.044793\n",
       "TRB/G         0.142421\n",
       "STL/G         0.114566\n",
       "TOV/G         0.102578\n",
       "BLK/G         0.165515\n",
       "3P%          -0.110028\n",
       "FG%           0.152206\n",
       "eFG%          0.113904\n",
       "sal_as_%      1.000000\n",
       "Name: sal_as_%, dtype: float64"
      ]
     },
     "execution_count": 83,
     "metadata": {},
     "output_type": "execute_result"
    }
   ],
   "source": [
    "c_36 = salary.corr(method = 'pearson')\n",
    "c_36.loc[:,'sal_as_%']"
   ]
  },
  {
   "cell_type": "markdown",
   "metadata": {},
   "source": [
    "From the correlation matrix, we can see that there are weak relationships between college stats and NBA rookie salaries. The only outstanding correlation coefficient is class at -0.51. This means on average every additional year spent in college reduces rookie salary by half.  "
   ]
  },
  {
   "cell_type": "code",
   "execution_count": 84,
   "metadata": {},
   "outputs": [
    {
     "data": {
      "text/plain": [
       "0      C\n",
       "1      G\n",
       "2      G\n",
       "3      C\n",
       "4      G\n",
       "5      F\n",
       "6      F\n",
       "7      G\n",
       "8      F\n",
       "9      G\n",
       "10     G\n",
       "11     G\n",
       "12     G\n",
       "13     G\n",
       "14     G\n",
       "15     G\n",
       "16     F\n",
       "17     G\n",
       "18     F\n",
       "19     G\n",
       "20     F\n",
       "21     F\n",
       "22     G\n",
       "23     F\n",
       "24     G\n",
       "25     G\n",
       "26     G\n",
       "27     F\n",
       "28     G\n",
       "29     G\n",
       "      ..\n",
       "381    G\n",
       "382    F\n",
       "383    G\n",
       "384    G\n",
       "385    G\n",
       "386    G\n",
       "387    F\n",
       "388    G\n",
       "389    G\n",
       "390    F\n",
       "391    G\n",
       "392    G\n",
       "393    F\n",
       "394    G\n",
       "395    F\n",
       "396    G\n",
       "397    F\n",
       "398    G\n",
       "399    G\n",
       "400    F\n",
       "401    G\n",
       "402    G\n",
       "403    G\n",
       "404    G\n",
       "405    G\n",
       "406    G\n",
       "407    G\n",
       "408    G\n",
       "409    F\n",
       "410    G\n",
       "Name: Pos, Length: 411, dtype: object"
      ]
     },
     "execution_count": 84,
     "metadata": {},
     "output_type": "execute_result"
    }
   ],
   "source": [
    "# Creating a correlation matrix grouped by position\n",
    "salary['Pos']"
   ]
  },
  {
   "cell_type": "code",
   "execution_count": 85,
   "metadata": {
    "scrolled": false
   },
   "outputs": [
    {
     "data": {
      "text/html": [
       "<div>\n",
       "<style scoped>\n",
       "    .dataframe tbody tr th:only-of-type {\n",
       "        vertical-align: middle;\n",
       "    }\n",
       "\n",
       "    .dataframe tbody tr th {\n",
       "        vertical-align: top;\n",
       "    }\n",
       "\n",
       "    .dataframe thead th {\n",
       "        text-align: right;\n",
       "    }\n",
       "</style>\n",
       "<table border=\"1\" class=\"dataframe\">\n",
       "  <thead>\n",
       "    <tr style=\"text-align: right;\">\n",
       "      <th></th>\n",
       "      <th>Unnamed: 0</th>\n",
       "      <th>Player</th>\n",
       "      <th>season</th>\n",
       "      <th>NBA_Salary</th>\n",
       "      <th>Class</th>\n",
       "      <th>Pos</th>\n",
       "      <th>School</th>\n",
       "      <th>Conf</th>\n",
       "      <th>G</th>\n",
       "      <th>MP</th>\n",
       "      <th>...</th>\n",
       "      <th>PPG</th>\n",
       "      <th>APG</th>\n",
       "      <th>TRB/G</th>\n",
       "      <th>STL/G</th>\n",
       "      <th>TOV/G</th>\n",
       "      <th>BLK/G</th>\n",
       "      <th>3P%</th>\n",
       "      <th>FG%</th>\n",
       "      <th>eFG%</th>\n",
       "      <th>sal_as_%</th>\n",
       "    </tr>\n",
       "  </thead>\n",
       "  <tbody>\n",
       "    <tr>\n",
       "      <th>1</th>\n",
       "      <td>1</td>\n",
       "      <td>A.J. Price</td>\n",
       "      <td>2009</td>\n",
       "      <td>62552</td>\n",
       "      <td>4</td>\n",
       "      <td>G</td>\n",
       "      <td>Connecticut</td>\n",
       "      <td>Big East</td>\n",
       "      <td>35</td>\n",
       "      <td>1112.0</td>\n",
       "      <td>...</td>\n",
       "      <td>14.714286</td>\n",
       "      <td>4.685714</td>\n",
       "      <td>3.485714</td>\n",
       "      <td>0.685714</td>\n",
       "      <td>2.685714</td>\n",
       "      <td>0.000000</td>\n",
       "      <td>0.401961</td>\n",
       "      <td>0.407674</td>\n",
       "      <td>0.505995</td>\n",
       "      <td>0.001084</td>\n",
       "    </tr>\n",
       "    <tr>\n",
       "      <th>2</th>\n",
       "      <td>2</td>\n",
       "      <td>Aaron Brooks</td>\n",
       "      <td>2007</td>\n",
       "      <td>972720</td>\n",
       "      <td>4</td>\n",
       "      <td>G</td>\n",
       "      <td>Oregon</td>\n",
       "      <td>Pac-10</td>\n",
       "      <td>35</td>\n",
       "      <td>1289.0</td>\n",
       "      <td>...</td>\n",
       "      <td>17.742857</td>\n",
       "      <td>4.257143</td>\n",
       "      <td>4.257143</td>\n",
       "      <td>1.371429</td>\n",
       "      <td>2.542857</td>\n",
       "      <td>0.171429</td>\n",
       "      <td>0.404040</td>\n",
       "      <td>0.460043</td>\n",
       "      <td>0.546436</td>\n",
       "      <td>0.017486</td>\n",
       "    </tr>\n",
       "    <tr>\n",
       "      <th>4</th>\n",
       "      <td>4</td>\n",
       "      <td>Acie Law</td>\n",
       "      <td>2007</td>\n",
       "      <td>203057</td>\n",
       "      <td>4</td>\n",
       "      <td>G</td>\n",
       "      <td>Texas A&amp;M</td>\n",
       "      <td>Big 12</td>\n",
       "      <td>34</td>\n",
       "      <td>1153.0</td>\n",
       "      <td>...</td>\n",
       "      <td>18.058824</td>\n",
       "      <td>4.970588</td>\n",
       "      <td>3.323529</td>\n",
       "      <td>1.147059</td>\n",
       "      <td>2.588235</td>\n",
       "      <td>0.029412</td>\n",
       "      <td>0.457831</td>\n",
       "      <td>0.500000</td>\n",
       "      <td>0.543981</td>\n",
       "      <td>0.003650</td>\n",
       "    </tr>\n",
       "    <tr>\n",
       "      <th>7</th>\n",
       "      <td>7</td>\n",
       "      <td>Al Thornton</td>\n",
       "      <td>2007</td>\n",
       "      <td>1652280</td>\n",
       "      <td>4</td>\n",
       "      <td>G</td>\n",
       "      <td>Florida State</td>\n",
       "      <td>ACC</td>\n",
       "      <td>35</td>\n",
       "      <td>1092.0</td>\n",
       "      <td>...</td>\n",
       "      <td>19.714286</td>\n",
       "      <td>0.685714</td>\n",
       "      <td>7.171429</td>\n",
       "      <td>1.514286</td>\n",
       "      <td>2.485714</td>\n",
       "      <td>1.142857</td>\n",
       "      <td>0.444444</td>\n",
       "      <td>0.530435</td>\n",
       "      <td>0.569565</td>\n",
       "      <td>0.029701</td>\n",
       "    </tr>\n",
       "    <tr>\n",
       "      <th>9</th>\n",
       "      <td>9</td>\n",
       "      <td>Alando Tucker</td>\n",
       "      <td>2007</td>\n",
       "      <td>931920</td>\n",
       "      <td>4</td>\n",
       "      <td>G</td>\n",
       "      <td>Wisconsin</td>\n",
       "      <td>Big Ten</td>\n",
       "      <td>36</td>\n",
       "      <td>1181.0</td>\n",
       "      <td>...</td>\n",
       "      <td>19.888889</td>\n",
       "      <td>2.027778</td>\n",
       "      <td>5.444444</td>\n",
       "      <td>0.916667</td>\n",
       "      <td>1.666667</td>\n",
       "      <td>0.277778</td>\n",
       "      <td>0.325203</td>\n",
       "      <td>0.469725</td>\n",
       "      <td>0.506422</td>\n",
       "      <td>0.016752</td>\n",
       "    </tr>\n",
       "  </tbody>\n",
       "</table>\n",
       "<p>5 rows × 37 columns</p>\n",
       "</div>"
      ],
      "text/plain": [
       "   Unnamed: 0         Player  season  NBA_Salary  Class Pos         School  \\\n",
       "1           1     A.J. Price    2009       62552      4   G    Connecticut   \n",
       "2           2   Aaron Brooks    2007      972720      4   G         Oregon   \n",
       "4           4       Acie Law    2007      203057      4   G      Texas A&M   \n",
       "7           7    Al Thornton    2007     1652280      4   G  Florida State   \n",
       "9           9  Alando Tucker    2007      931920      4   G      Wisconsin   \n",
       "\n",
       "       Conf   G      MP  ...        PPG       APG     TRB/G     STL/G  \\\n",
       "1  Big East  35  1112.0  ...  14.714286  4.685714  3.485714  0.685714   \n",
       "2    Pac-10  35  1289.0  ...  17.742857  4.257143  4.257143  1.371429   \n",
       "4    Big 12  34  1153.0  ...  18.058824  4.970588  3.323529  1.147059   \n",
       "7       ACC  35  1092.0  ...  19.714286  0.685714  7.171429  1.514286   \n",
       "9   Big Ten  36  1181.0  ...  19.888889  2.027778  5.444444  0.916667   \n",
       "\n",
       "      TOV/G     BLK/G       3P%       FG%      eFG%  sal_as_%  \n",
       "1  2.685714  0.000000  0.401961  0.407674  0.505995  0.001084  \n",
       "2  2.542857  0.171429  0.404040  0.460043  0.546436  0.017486  \n",
       "4  2.588235  0.029412  0.457831  0.500000  0.543981  0.003650  \n",
       "7  2.485714  1.142857  0.444444  0.530435  0.569565  0.029701  \n",
       "9  1.666667  0.277778  0.325203  0.469725  0.506422  0.016752  \n",
       "\n",
       "[5 rows x 37 columns]"
      ]
     },
     "execution_count": 85,
     "metadata": {},
     "output_type": "execute_result"
    }
   ],
   "source": [
    "#Querying by guards\n",
    "guards = salary.query('Pos == \"G\"')\n",
    "guards.head()"
   ]
  },
  {
   "cell_type": "code",
   "execution_count": null,
   "metadata": {},
   "outputs": [],
   "source": []
  },
  {
   "cell_type": "code",
   "execution_count": null,
   "metadata": {},
   "outputs": [],
   "source": []
  },
  {
   "cell_type": "code",
   "execution_count": 140,
   "metadata": {},
   "outputs": [],
   "source": [
    "#Further querying guards by class\n",
    "guards_FR = guards.query('Class == 1')\n",
    "guards_SO = guards.query('Class == 2')\n",
    "guards_JR = guards.query('Class == 3')\n",
    "guards_SR = guards.query('Class == 4')"
   ]
  },
  {
   "cell_type": "code",
   "execution_count": 86,
   "metadata": {},
   "outputs": [
    {
     "data": {
      "text/plain": [
       "Unnamed: 0   -0.093933\n",
       "season        0.133573\n",
       "NBA_Salary    0.937288\n",
       "Class        -0.471148\n",
       "G             0.088174\n",
       "MP            0.148917\n",
       "FG            0.093309\n",
       "FGA           0.047572\n",
       "2P            0.080034\n",
       "2PA           0.044563\n",
       "3P            0.008452\n",
       "3PA           0.006630\n",
       "FT            0.130098\n",
       "FTA           0.156401\n",
       "ORB           0.061743\n",
       "DRB           0.177564\n",
       "TRB           0.154344\n",
       "AST           0.156635\n",
       "STL           0.202178\n",
       "BLK           0.251909\n",
       "TOV           0.237993\n",
       "PF            0.193655\n",
       "PTS           0.119250\n",
       "PPG           0.071166\n",
       "APG           0.143466\n",
       "TRB/G         0.118448\n",
       "STL/G         0.178478\n",
       "TOV/G         0.200565\n",
       "BLK/G         0.249477\n",
       "3P%          -0.012540\n",
       "FG%           0.101959\n",
       "eFG%          0.070311\n",
       "sal_as_%      1.000000\n",
       "Name: sal_as_%, dtype: float64"
      ]
     },
     "execution_count": 86,
     "metadata": {},
     "output_type": "execute_result"
    }
   ],
   "source": [
    "guards_r = guards.corr(method = 'pearson')\n",
    "guards_r.loc[:,'sal_as_%']"
   ]
  },
  {
   "cell_type": "code",
   "execution_count": 106,
   "metadata": {},
   "outputs": [
    {
     "data": {
      "text/plain": [
       "{'whiskers': [<matplotlib.lines.Line2D at 0x1a17278e10>,\n",
       "  <matplotlib.lines.Line2D at 0x1a17278f60>],\n",
       " 'caps': [<matplotlib.lines.Line2D at 0x1a17285550>,\n",
       "  <matplotlib.lines.Line2D at 0x1a172858d0>],\n",
       " 'boxes': [<matplotlib.lines.Line2D at 0x1a172789e8>],\n",
       " 'medians': [<matplotlib.lines.Line2D at 0x1a17285c18>],\n",
       " 'fliers': [<matplotlib.lines.Line2D at 0x1a17285f60>],\n",
       " 'means': []}"
      ]
     },
     "execution_count": 106,
     "metadata": {},
     "output_type": "execute_result"
    },
    {
     "data": {
      "image/png": "[encoded data removed]",
      "text/plain": [
       "<Figure size 432x288 with 1 Axes>"
      ]
     },
     "metadata": {
      "needs_background": "light"
     },
     "output_type": "display_data"
    }
   ],
   "source": [
    "#Displaying boxplots for Blocks for guards since Blocks has the highest correlation coefficient\n",
    "plt.boxplot('BLK', data = guards)"
   ]
  },
  {
   "cell_type": "code",
   "execution_count": 107,
   "metadata": {},
   "outputs": [
    {
     "data": {
      "text/plain": [
       "{'whiskers': [<matplotlib.lines.Line2D at 0x1a173b1898>,\n",
       "  <matplotlib.lines.Line2D at 0x1a173b1c50>],\n",
       " 'caps': [<matplotlib.lines.Line2D at 0x1a173b1f98>,\n",
       "  <matplotlib.lines.Line2D at 0x1a173b1f28>],\n",
       " 'boxes': [<matplotlib.lines.Line2D at 0x1a173b1470>],\n",
       " 'medians': [<matplotlib.lines.Line2D at 0x1a173bd668>],\n",
       " 'fliers': [<matplotlib.lines.Line2D at 0x1a173bd9b0>],\n",
       " 'means': []}"
      ]
     },
     "execution_count": 107,
     "metadata": {},
     "output_type": "execute_result"
    },
    {
     "data": {
      "image/png": "[encoded data removed]",
      "text/plain": [
       "<Figure size 432x288 with 1 Axes>"
      ]
     },
     "metadata": {
      "needs_background": "light"
     },
     "output_type": "display_data"
    }
   ],
   "source": [
    "#Displaying boxplot for Steals since it has the third highest correlation coefficient\n",
    "plt.boxplot('STL', data = guards)"
   ]
  },
  {
   "cell_type": "code",
   "execution_count": 87,
   "metadata": {},
   "outputs": [
    {
     "data": {
      "text/html": [
       "<div>\n",
       "<style scoped>\n",
       "    .dataframe tbody tr th:only-of-type {\n",
       "        vertical-align: middle;\n",
       "    }\n",
       "\n",
       "    .dataframe tbody tr th {\n",
       "        vertical-align: top;\n",
       "    }\n",
       "\n",
       "    .dataframe thead th {\n",
       "        text-align: right;\n",
       "    }\n",
       "</style>\n",
       "<table border=\"1\" class=\"dataframe\">\n",
       "  <thead>\n",
       "    <tr style=\"text-align: right;\">\n",
       "      <th></th>\n",
       "      <th>Unnamed: 0</th>\n",
       "      <th>MP</th>\n",
       "      <th>FG</th>\n",
       "      <th>FGA</th>\n",
       "      <th>2P</th>\n",
       "      <th>2PA</th>\n",
       "      <th>3P</th>\n",
       "      <th>3PA</th>\n",
       "      <th>FT</th>\n",
       "      <th>FTA</th>\n",
       "      <th>...</th>\n",
       "      <th>3P%</th>\n",
       "      <th>FG%</th>\n",
       "      <th>eFG%</th>\n",
       "      <th>Player</th>\n",
       "      <th>season</th>\n",
       "      <th>NBA_Salary</th>\n",
       "      <th>Class</th>\n",
       "      <th>Pos</th>\n",
       "      <th>cap</th>\n",
       "      <th>Sal_as_%</th>\n",
       "    </tr>\n",
       "  </thead>\n",
       "  <tbody>\n",
       "    <tr>\n",
       "      <th>1</th>\n",
       "      <td>1</td>\n",
       "      <td>36.0</td>\n",
       "      <td>5.503597</td>\n",
       "      <td>13.500000</td>\n",
       "      <td>2.848921</td>\n",
       "      <td>6.895683</td>\n",
       "      <td>2.654676</td>\n",
       "      <td>6.604317</td>\n",
       "      <td>3.010791</td>\n",
       "      <td>4.176259</td>\n",
       "      <td>...</td>\n",
       "      <td>0.013013</td>\n",
       "      <td>0.013198</td>\n",
       "      <td>0.016381</td>\n",
       "      <td>A.J. Price</td>\n",
       "      <td>2009</td>\n",
       "      <td>62552</td>\n",
       "      <td>4</td>\n",
       "      <td>G</td>\n",
       "      <td>57700000</td>\n",
       "      <td>0.001084</td>\n",
       "    </tr>\n",
       "    <tr>\n",
       "      <th>2</th>\n",
       "      <td>2</td>\n",
       "      <td>36.0</td>\n",
       "      <td>5.948798</td>\n",
       "      <td>12.930954</td>\n",
       "      <td>3.714507</td>\n",
       "      <td>7.401086</td>\n",
       "      <td>2.234290</td>\n",
       "      <td>5.529868</td>\n",
       "      <td>3.211792</td>\n",
       "      <td>3.798293</td>\n",
       "      <td>...</td>\n",
       "      <td>0.011284</td>\n",
       "      <td>0.012848</td>\n",
       "      <td>0.015261</td>\n",
       "      <td>Aaron Brooks</td>\n",
       "      <td>2007</td>\n",
       "      <td>972720</td>\n",
       "      <td>4</td>\n",
       "      <td>G</td>\n",
       "      <td>55630000</td>\n",
       "      <td>0.017486</td>\n",
       "    </tr>\n",
       "    <tr>\n",
       "      <th>4</th>\n",
       "      <td>4</td>\n",
       "      <td>36.0</td>\n",
       "      <td>6.744146</td>\n",
       "      <td>13.488291</td>\n",
       "      <td>5.557676</td>\n",
       "      <td>10.896791</td>\n",
       "      <td>1.186470</td>\n",
       "      <td>2.591500</td>\n",
       "      <td>4.496097</td>\n",
       "      <td>5.776236</td>\n",
       "      <td>...</td>\n",
       "      <td>0.014295</td>\n",
       "      <td>0.015611</td>\n",
       "      <td>0.016985</td>\n",
       "      <td>Acie Law</td>\n",
       "      <td>2007</td>\n",
       "      <td>203057</td>\n",
       "      <td>4</td>\n",
       "      <td>G</td>\n",
       "      <td>55630000</td>\n",
       "      <td>0.003650</td>\n",
       "    </tr>\n",
       "    <tr>\n",
       "      <th>7</th>\n",
       "      <td>7</td>\n",
       "      <td>36.0</td>\n",
       "      <td>8.043956</td>\n",
       "      <td>15.164835</td>\n",
       "      <td>6.857143</td>\n",
       "      <td>12.494505</td>\n",
       "      <td>1.186813</td>\n",
       "      <td>2.670330</td>\n",
       "      <td>5.472527</td>\n",
       "      <td>6.923077</td>\n",
       "      <td>...</td>\n",
       "      <td>0.014652</td>\n",
       "      <td>0.017487</td>\n",
       "      <td>0.018777</td>\n",
       "      <td>Al Thornton</td>\n",
       "      <td>2007</td>\n",
       "      <td>1652280</td>\n",
       "      <td>4</td>\n",
       "      <td>G</td>\n",
       "      <td>55630000</td>\n",
       "      <td>0.029701</td>\n",
       "    </tr>\n",
       "    <tr>\n",
       "      <th>9</th>\n",
       "      <td>9</td>\n",
       "      <td>36.0</td>\n",
       "      <td>7.803556</td>\n",
       "      <td>16.613040</td>\n",
       "      <td>6.584251</td>\n",
       "      <td>12.863675</td>\n",
       "      <td>1.219306</td>\n",
       "      <td>3.749365</td>\n",
       "      <td>4.999153</td>\n",
       "      <td>7.590178</td>\n",
       "      <td>...</td>\n",
       "      <td>0.009913</td>\n",
       "      <td>0.014318</td>\n",
       "      <td>0.015437</td>\n",
       "      <td>Alando Tucker</td>\n",
       "      <td>2007</td>\n",
       "      <td>931920</td>\n",
       "      <td>4</td>\n",
       "      <td>G</td>\n",
       "      <td>55630000</td>\n",
       "      <td>0.016752</td>\n",
       "    </tr>\n",
       "  </tbody>\n",
       "</table>\n",
       "<p>5 rows × 35 columns</p>\n",
       "</div>"
      ],
      "text/plain": [
       "   Unnamed: 0    MP        FG        FGA        2P        2PA        3P  \\\n",
       "1           1  36.0  5.503597  13.500000  2.848921   6.895683  2.654676   \n",
       "2           2  36.0  5.948798  12.930954  3.714507   7.401086  2.234290   \n",
       "4           4  36.0  6.744146  13.488291  5.557676  10.896791  1.186470   \n",
       "7           7  36.0  8.043956  15.164835  6.857143  12.494505  1.186813   \n",
       "9           9  36.0  7.803556  16.613040  6.584251  12.863675  1.219306   \n",
       "\n",
       "        3PA        FT       FTA  ...       3P%       FG%      eFG%  \\\n",
       "1  6.604317  3.010791  4.176259  ...  0.013013  0.013198  0.016381   \n",
       "2  5.529868  3.211792  3.798293  ...  0.011284  0.012848  0.015261   \n",
       "4  2.591500  4.496097  5.776236  ...  0.014295  0.015611  0.016985   \n",
       "7  2.670330  5.472527  6.923077  ...  0.014652  0.017487  0.018777   \n",
       "9  3.749365  4.999153  7.590178  ...  0.009913  0.014318  0.015437   \n",
       "\n",
       "          Player  season  NBA_Salary  Class  Pos       cap  Sal_as_%  \n",
       "1     A.J. Price    2009       62552      4    G  57700000  0.001084  \n",
       "2   Aaron Brooks    2007      972720      4    G  55630000  0.017486  \n",
       "4       Acie Law    2007      203057      4    G  55630000  0.003650  \n",
       "7    Al Thornton    2007     1652280      4    G  55630000  0.029701  \n",
       "9  Alando Tucker    2007      931920      4    G  55630000  0.016752  \n",
       "\n",
       "[5 rows x 35 columns]"
      ]
     },
     "execution_count": 87,
     "metadata": {},
     "output_type": "execute_result"
    }
   ],
   "source": [
    "#Querying by guards using per 36 stats\n",
    "guards_36 = per_36.query('Pos == \"G\"')\n",
    "guards_36.head()"
   ]
  },
  {
   "cell_type": "code",
   "execution_count": 95,
   "metadata": {},
   "outputs": [
    {
     "data": {
      "text/plain": [
       "Unnamed: 0   -0.093933\n",
       "MP                 NaN\n",
       "FG            0.011017\n",
       "FGA          -0.038956\n",
       "2P            0.030990\n",
       "2PA          -0.007250\n",
       "3P           -0.029827\n",
       "3PA          -0.036948\n",
       "FT            0.087147\n",
       "FTA           0.108826\n",
       "ORB           0.027045\n",
       "DRB           0.125076\n",
       "TRB           0.099741\n",
       "AST           0.127594\n",
       "STL           0.161513\n",
       "BLK           0.240034\n",
       "TOV           0.176698\n",
       "PF            0.112111\n",
       "PTS           0.037280\n",
       "PPG          -0.003618\n",
       "APG           0.112957\n",
       "TRB/G         0.065681\n",
       "STL/G         0.136111\n",
       "TOV/G         0.132198\n",
       "BLK/G         0.238159\n",
       "3P%          -0.088463\n",
       "FG%          -0.046794\n",
       "eFG%         -0.065823\n",
       "season        0.133573\n",
       "NBA_Salary    0.937288\n",
       "Class        -0.471148\n",
       "cap           0.114364\n",
       "Sal_as_%      1.000000\n",
       "Name: Sal_as_%, dtype: float64"
      ]
     },
     "execution_count": 95,
     "metadata": {},
     "output_type": "execute_result"
    }
   ],
   "source": [
    "guards_r_36 = guards_36.corr(method = 'pearson')\n",
    "guards_r_36.loc[:,'Sal_as_%']"
   ]
  },
  {
   "cell_type": "code",
   "execution_count": 141,
   "metadata": {
    "scrolled": false
   },
   "outputs": [
    {
     "data": {
      "text/plain": [
       "Unnamed: 0   -0.249083\n",
       "season        0.086382\n",
       "NBA_Salary    0.887102\n",
       "Class              NaN\n",
       "G            -0.069161\n",
       "MP            0.232235\n",
       "FG            0.051366\n",
       "FGA          -0.111798\n",
       "2P           -0.125649\n",
       "2PA          -0.236894\n",
       "3P            0.196981\n",
       "3PA           0.148820\n",
       "FT            0.033304\n",
       "FTA          -0.082522\n",
       "ORB          -0.099749\n",
       "DRB           0.361463\n",
       "TRB           0.215471\n",
       "AST           0.245829\n",
       "STL           0.230326\n",
       "BLK           0.433586\n",
       "TOV           0.167284\n",
       "PF           -0.025878\n",
       "PTS           0.127367\n",
       "PPG           0.182787\n",
       "APG           0.276462\n",
       "TRB/G         0.226182\n",
       "STL/G         0.253813\n",
       "TOV/G         0.201877\n",
       "BLK/G         0.436760\n",
       "3P%           0.316094\n",
       "FG%           0.314345\n",
       "eFG%          0.392316\n",
       "sal_as_%      1.000000\n",
       "Name: sal_as_%, dtype: float64"
      ]
     },
     "execution_count": 141,
     "metadata": {},
     "output_type": "execute_result"
    }
   ],
   "source": [
    "guards_FR_R = guards_FR.corr(method = 'pearson')\n",
    "guards_FR_R.loc[:,'sal_as_%']"
   ]
  },
  {
   "cell_type": "markdown",
   "metadata": {},
   "source": [
    "The freshman class has higher correlation coefficients for Steals (r = .36), Defensive rebounds (r = .25), Points (r = .24), Assists (r = .24) and effective field goal % (r = .27)."
   ]
  },
  {
   "cell_type": "code",
   "execution_count": 142,
   "metadata": {},
   "outputs": [
    {
     "data": {
      "text/plain": [
       "Unnamed: 0    0.135196\n",
       "season        0.009457\n",
       "NBA_Salary    0.960607\n",
       "Class              NaN\n",
       "G            -0.033474\n",
       "MP            0.235476\n",
       "FG            0.032256\n",
       "FGA          -0.063224\n",
       "2P            0.066473\n",
       "2PA          -0.045269\n",
       "3P           -0.057800\n",
       "3PA          -0.014911\n",
       "FT            0.281323\n",
       "FTA           0.303167\n",
       "ORB           0.204844\n",
       "DRB           0.127185\n",
       "TRB           0.164675\n",
       "AST          -0.025178\n",
       "STL           0.303093\n",
       "BLK           0.122900\n",
       "TOV           0.078333\n",
       "PF            0.282395\n",
       "PTS           0.152335\n",
       "PPG           0.154696\n",
       "APG          -0.034982\n",
       "TRB/G         0.182098\n",
       "STL/G         0.292452\n",
       "TOV/G         0.071937\n",
       "BLK/G         0.133702\n",
       "3P%          -0.116403\n",
       "FG%           0.186999\n",
       "eFG%          0.128486\n",
       "sal_as_%      1.000000\n",
       "Name: sal_as_%, dtype: float64"
      ]
     },
     "execution_count": 142,
     "metadata": {},
     "output_type": "execute_result"
    }
   ],
   "source": [
    "guards_SO_R = guards_SO.corr(method = 'pearson')\n",
    "guards_SO_R.loc[:,'sal_as_%']"
   ]
  },
  {
   "cell_type": "code",
   "execution_count": 143,
   "metadata": {},
   "outputs": [
    {
     "data": {
      "text/plain": [
       "Unnamed: 0   -0.167137\n",
       "season       -0.074719\n",
       "NBA_Salary    0.952318\n",
       "Class              NaN\n",
       "G             0.006680\n",
       "MP            0.163028\n",
       "FG            0.417909\n",
       "FGA           0.416157\n",
       "2P            0.300849\n",
       "2PA           0.353912\n",
       "3P            0.103211\n",
       "3PA           0.094159\n",
       "FT            0.226795\n",
       "FTA           0.231951\n",
       "ORB           0.121620\n",
       "DRB           0.410770\n",
       "TRB           0.353872\n",
       "AST           0.441041\n",
       "STL           0.381559\n",
       "BLK           0.064826\n",
       "TOV           0.442764\n",
       "PF            0.297451\n",
       "PTS           0.388423\n",
       "PPG           0.345497\n",
       "APG           0.434173\n",
       "TRB/G         0.340547\n",
       "STL/G         0.378125\n",
       "TOV/G         0.397573\n",
       "BLK/G         0.090486\n",
       "3P%           0.009217\n",
       "FG%          -0.016626\n",
       "eFG%         -0.073376\n",
       "sal_as_%      1.000000\n",
       "Name: sal_as_%, dtype: float64"
      ]
     },
     "execution_count": 143,
     "metadata": {},
     "output_type": "execute_result"
    }
   ],
   "source": [
    "guards_JR_R = guards_JR.corr(method = 'pearson')\n",
    "guards_JR_R.loc[:,'sal_as_%']"
   ]
  },
  {
   "cell_type": "code",
   "execution_count": 145,
   "metadata": {},
   "outputs": [
    {
     "data": {
      "text/plain": [
       "Unnamed: 0    0.002864\n",
       "season       -0.108208\n",
       "NBA_Salary    0.937098\n",
       "Class              NaN\n",
       "G             0.110069\n",
       "MP            0.065122\n",
       "FG            0.115475\n",
       "FGA           0.011293\n",
       "2P            0.046610\n",
       "2PA          -0.031962\n",
       "3P            0.085472\n",
       "3PA           0.047582\n",
       "FT            0.181062\n",
       "FTA           0.165929\n",
       "ORB           0.020413\n",
       "DRB          -0.081748\n",
       "TRB          -0.048242\n",
       "AST           0.056187\n",
       "STL           0.190520\n",
       "BLK           0.137785\n",
       "TOV           0.085993\n",
       "PF            0.050908\n",
       "PTS           0.171144\n",
       "PPG           0.119782\n",
       "APG           0.040028\n",
       "TRB/G        -0.082086\n",
       "STL/G         0.159000\n",
       "TOV/G         0.048765\n",
       "BLK/G         0.120099\n",
       "3P%           0.125758\n",
       "FG%           0.235120\n",
       "eFG%          0.250337\n",
       "sal_as_%      1.000000\n",
       "Name: sal_as_%, dtype: float64"
      ]
     },
     "execution_count": 145,
     "metadata": {},
     "output_type": "execute_result"
    }
   ],
   "source": [
    "guards_SR_R = guards_SR.corr(method = 'pearson')\n",
    "guards_SR_R.loc[:,'sal_as_%']"
   ]
  },
  {
   "cell_type": "code",
   "execution_count": 137,
   "metadata": {},
   "outputs": [
    {
     "data": {
      "text/plain": [
       "Unnamed: 0   -0.197686\n",
       "MP                 NaN\n",
       "FG           -0.105290\n",
       "FGA          -0.218271\n",
       "2P           -0.113897\n",
       "2PA          -0.202208\n",
       "3P            0.061075\n",
       "3PA           0.004681\n",
       "FT            0.058261\n",
       "FTA           0.034732\n",
       "ORB          -0.036678\n",
       "DRB           0.119390\n",
       "TRB           0.059986\n",
       "AST           0.203419\n",
       "STL           0.265119\n",
       "BLK           0.108848\n",
       "TOV           0.023546\n",
       "PF           -0.149809\n",
       "PTS          -0.041951\n",
       "PPG          -0.095999\n",
       "APG           0.200720\n",
       "TRB/G        -0.008776\n",
       "STL/G         0.224728\n",
       "TOV/G        -0.020221\n",
       "BLK/G         0.063216\n",
       "3P%          -0.036026\n",
       "FG%          -0.117290\n",
       "eFG%         -0.116401\n",
       "season        0.144925\n",
       "NBA_Salary    0.886645\n",
       "Class              NaN\n",
       "cap           0.026315\n",
       "Sal_as_%      1.000000\n",
       "Name: Sal_as_%, dtype: float64"
      ]
     },
     "execution_count": 137,
     "metadata": {},
     "output_type": "execute_result"
    }
   ],
   "source": [
    "#Further querying guards by class (per 36 stats)\n",
    "guards_FR_36 = per_36.query('Class == 1')\n",
    "guards_FR_36_r = guards_FR_36.corr(method = 'pearson')\n",
    "guards_FR_36_r.loc[:,'Sal_as_%']"
   ]
  },
  {
   "cell_type": "code",
   "execution_count": 146,
   "metadata": {},
   "outputs": [
    {
     "data": {
      "text/html": [
       "<div>\n",
       "<style scoped>\n",
       "    .dataframe tbody tr th:only-of-type {\n",
       "        vertical-align: middle;\n",
       "    }\n",
       "\n",
       "    .dataframe tbody tr th {\n",
       "        vertical-align: top;\n",
       "    }\n",
       "\n",
       "    .dataframe thead th {\n",
       "        text-align: right;\n",
       "    }\n",
       "</style>\n",
       "<table border=\"1\" class=\"dataframe\">\n",
       "  <thead>\n",
       "    <tr style=\"text-align: right;\">\n",
       "      <th></th>\n",
       "      <th>Unnamed: 0</th>\n",
       "      <th>Player</th>\n",
       "      <th>season</th>\n",
       "      <th>NBA_Salary</th>\n",
       "      <th>Class</th>\n",
       "      <th>Pos</th>\n",
       "      <th>School</th>\n",
       "      <th>Conf</th>\n",
       "      <th>G</th>\n",
       "      <th>MP</th>\n",
       "      <th>...</th>\n",
       "      <th>PPG</th>\n",
       "      <th>APG</th>\n",
       "      <th>TRB/G</th>\n",
       "      <th>STL/G</th>\n",
       "      <th>TOV/G</th>\n",
       "      <th>BLK/G</th>\n",
       "      <th>3P%</th>\n",
       "      <th>FG%</th>\n",
       "      <th>eFG%</th>\n",
       "      <th>sal_as_%</th>\n",
       "    </tr>\n",
       "  </thead>\n",
       "  <tbody>\n",
       "    <tr>\n",
       "      <th>5</th>\n",
       "      <td>5</td>\n",
       "      <td>Adam Morrison</td>\n",
       "      <td>2006</td>\n",
       "      <td>3616680</td>\n",
       "      <td>3</td>\n",
       "      <td>F</td>\n",
       "      <td>Gonzaga</td>\n",
       "      <td>WCC</td>\n",
       "      <td>33</td>\n",
       "      <td>1205.0</td>\n",
       "      <td>...</td>\n",
       "      <td>28.060606</td>\n",
       "      <td>1.696970</td>\n",
       "      <td>5.515152</td>\n",
       "      <td>1.060606</td>\n",
       "      <td>2.303030</td>\n",
       "      <td>0.333333</td>\n",
       "      <td>0.427746</td>\n",
       "      <td>0.495948</td>\n",
       "      <td>0.555916</td>\n",
       "      <td>0.068066</td>\n",
       "    </tr>\n",
       "    <tr>\n",
       "      <th>6</th>\n",
       "      <td>6</td>\n",
       "      <td>Al Horford</td>\n",
       "      <td>2007</td>\n",
       "      <td>3745800</td>\n",
       "      <td>3</td>\n",
       "      <td>F</td>\n",
       "      <td>Florida</td>\n",
       "      <td>SEC</td>\n",
       "      <td>38</td>\n",
       "      <td>1057.0</td>\n",
       "      <td>...</td>\n",
       "      <td>13.210526</td>\n",
       "      <td>2.157895</td>\n",
       "      <td>9.473684</td>\n",
       "      <td>0.736842</td>\n",
       "      <td>1.789474</td>\n",
       "      <td>1.842105</td>\n",
       "      <td>0.000000</td>\n",
       "      <td>0.607843</td>\n",
       "      <td>0.607843</td>\n",
       "      <td>0.067334</td>\n",
       "    </tr>\n",
       "    <tr>\n",
       "      <th>8</th>\n",
       "      <td>8</td>\n",
       "      <td>Al-Farouq Aminu</td>\n",
       "      <td>2010</td>\n",
       "      <td>981084</td>\n",
       "      <td>2</td>\n",
       "      <td>F</td>\n",
       "      <td>Wake Forest</td>\n",
       "      <td>ACC</td>\n",
       "      <td>31</td>\n",
       "      <td>970.0</td>\n",
       "      <td>...</td>\n",
       "      <td>15.838710</td>\n",
       "      <td>1.322581</td>\n",
       "      <td>10.709677</td>\n",
       "      <td>1.419355</td>\n",
       "      <td>3.193548</td>\n",
       "      <td>1.419355</td>\n",
       "      <td>0.272727</td>\n",
       "      <td>0.446524</td>\n",
       "      <td>0.470588</td>\n",
       "      <td>0.016902</td>\n",
       "    </tr>\n",
       "    <tr>\n",
       "      <th>16</th>\n",
       "      <td>16</td>\n",
       "      <td>Andrew Bogut</td>\n",
       "      <td>2005</td>\n",
       "      <td>242224</td>\n",
       "      <td>2</td>\n",
       "      <td>F</td>\n",
       "      <td>Utah</td>\n",
       "      <td>MWC</td>\n",
       "      <td>35</td>\n",
       "      <td>1224.0</td>\n",
       "      <td>...</td>\n",
       "      <td>20.428571</td>\n",
       "      <td>2.342857</td>\n",
       "      <td>12.200000</td>\n",
       "      <td>0.971429</td>\n",
       "      <td>2.742857</td>\n",
       "      <td>1.857143</td>\n",
       "      <td>0.360000</td>\n",
       "      <td>0.620309</td>\n",
       "      <td>0.630243</td>\n",
       "      <td>0.004893</td>\n",
       "    </tr>\n",
       "    <tr>\n",
       "      <th>18</th>\n",
       "      <td>18</td>\n",
       "      <td>Andrew Nicholson</td>\n",
       "      <td>2012</td>\n",
       "      <td>1418160</td>\n",
       "      <td>4</td>\n",
       "      <td>F</td>\n",
       "      <td>St. Bonaventure</td>\n",
       "      <td>A-10</td>\n",
       "      <td>32</td>\n",
       "      <td>962.0</td>\n",
       "      <td>...</td>\n",
       "      <td>18.468750</td>\n",
       "      <td>1.031250</td>\n",
       "      <td>8.406250</td>\n",
       "      <td>0.656250</td>\n",
       "      <td>2.500000</td>\n",
       "      <td>1.968750</td>\n",
       "      <td>0.433962</td>\n",
       "      <td>0.571429</td>\n",
       "      <td>0.601299</td>\n",
       "      <td>0.024432</td>\n",
       "    </tr>\n",
       "  </tbody>\n",
       "</table>\n",
       "<p>5 rows × 37 columns</p>\n",
       "</div>"
      ],
      "text/plain": [
       "    Unnamed: 0            Player  season  NBA_Salary  Class Pos  \\\n",
       "5            5     Adam Morrison    2006     3616680      3   F   \n",
       "6            6        Al Horford    2007     3745800      3   F   \n",
       "8            8   Al-Farouq Aminu    2010      981084      2   F   \n",
       "16          16      Andrew Bogut    2005      242224      2   F   \n",
       "18          18  Andrew Nicholson    2012     1418160      4   F   \n",
       "\n",
       "             School  Conf   G      MP  ...        PPG       APG      TRB/G  \\\n",
       "5           Gonzaga   WCC  33  1205.0  ...  28.060606  1.696970   5.515152   \n",
       "6           Florida   SEC  38  1057.0  ...  13.210526  2.157895   9.473684   \n",
       "8       Wake Forest   ACC  31   970.0  ...  15.838710  1.322581  10.709677   \n",
       "16             Utah   MWC  35  1224.0  ...  20.428571  2.342857  12.200000   \n",
       "18  St. Bonaventure  A-10  32   962.0  ...  18.468750  1.031250   8.406250   \n",
       "\n",
       "       STL/G     TOV/G     BLK/G       3P%       FG%      eFG%  sal_as_%  \n",
       "5   1.060606  2.303030  0.333333  0.427746  0.495948  0.555916  0.068066  \n",
       "6   0.736842  1.789474  1.842105  0.000000  0.607843  0.607843  0.067334  \n",
       "8   1.419355  3.193548  1.419355  0.272727  0.446524  0.470588  0.016902  \n",
       "16  0.971429  2.742857  1.857143  0.360000  0.620309  0.630243  0.004893  \n",
       "18  0.656250  2.500000  1.968750  0.433962  0.571429  0.601299  0.024432  \n",
       "\n",
       "[5 rows x 37 columns]"
      ]
     },
     "execution_count": 146,
     "metadata": {},
     "output_type": "execute_result"
    }
   ],
   "source": [
    "#Querying by Forwards\n",
    "forwards = salary.query('Pos == \"F\"')\n",
    "forwards.head()"
   ]
  },
  {
   "cell_type": "code",
   "execution_count": 147,
   "metadata": {},
   "outputs": [],
   "source": [
    "#Further querying guards by class\n",
    "forwards_FR = forwards.query('Class == 1')\n",
    "forwards_SO = forwards.query('Class == 2')\n",
    "forwards_JR = forwards.query('Class == 3')\n",
    "forwards_SR = forwards.query('Class == 4')"
   ]
  },
  {
   "cell_type": "code",
   "execution_count": 92,
   "metadata": {},
   "outputs": [
    {
     "data": {
      "text/plain": [
       "Unnamed: 0   -0.113286\n",
       "season        0.033310\n",
       "NBA_Salary    0.945104\n",
       "Class        -0.469883\n",
       "G             0.184755\n",
       "MP            0.126504\n",
       "FG            0.184206\n",
       "FGA           0.078353\n",
       "2P            0.203567\n",
       "2PA           0.168383\n",
       "3P           -0.096988\n",
       "3PA          -0.098084\n",
       "FT            0.174788\n",
       "FTA           0.216155\n",
       "ORB           0.158757\n",
       "DRB           0.234690\n",
       "TRB           0.228135\n",
       "AST           0.014063\n",
       "STL           0.163210\n",
       "BLK           0.204895\n",
       "TOV           0.019943\n",
       "PF           -0.002600\n",
       "PTS           0.186939\n",
       "PPG           0.082497\n",
       "APG          -0.005276\n",
       "TRB/G         0.161619\n",
       "STL/G         0.135553\n",
       "TOV/G        -0.034026\n",
       "BLK/G         0.165701\n",
       "3P%          -0.153358\n",
       "FG%           0.164728\n",
       "eFG%          0.107497\n",
       "sal_as_%      1.000000\n",
       "Name: sal_as_%, dtype: float64"
      ]
     },
     "execution_count": 92,
     "metadata": {},
     "output_type": "execute_result"
    }
   ],
   "source": [
    "forwards_r = forwards.corr(method = 'pearson')\n",
    "forwards_r.loc[:,'sal_as_%']"
   ]
  },
  {
   "cell_type": "code",
   "execution_count": 115,
   "metadata": {},
   "outputs": [
    {
     "data": {
      "text/plain": [
       "{'whiskers': [<matplotlib.lines.Line2D at 0x1a1a591c18>,\n",
       "  <matplotlib.lines.Line2D at 0x1a1a591fd0>],\n",
       " 'caps': [<matplotlib.lines.Line2D at 0x1a1a591f60>,\n",
       "  <matplotlib.lines.Line2D at 0x1a1b3ff6a0>],\n",
       " 'boxes': [<matplotlib.lines.Line2D at 0x1a1a5917f0>],\n",
       " 'medians': [<matplotlib.lines.Line2D at 0x1a1b3ff9e8>],\n",
       " 'fliers': [<matplotlib.lines.Line2D at 0x1a1b3ffd30>],\n",
       " 'means': []}"
      ]
     },
     "execution_count": 115,
     "metadata": {},
     "output_type": "execute_result"
    },
    {
     "data": {
      "image/png": "[encoded data removed]",
      "text/plain": [
       "<Figure size 432x288 with 1 Axes>"
      ]
     },
     "metadata": {
      "needs_background": "light"
     },
     "output_type": "display_data"
    }
   ],
   "source": [
    "#Displaying boxplot for Defensive rebounds since it has the highest correlation coefficient\n",
    "plt.boxplot('DRB', data = forwards)"
   ]
  },
  {
   "cell_type": "code",
   "execution_count": 109,
   "metadata": {},
   "outputs": [
    {
     "data": {
      "text/plain": [
       "{'whiskers': [<matplotlib.lines.Line2D at 0x1a18f18400>,\n",
       "  <matplotlib.lines.Line2D at 0x1a18f187b8>],\n",
       " 'caps': [<matplotlib.lines.Line2D at 0x1a18f18b00>,\n",
       "  <matplotlib.lines.Line2D at 0x1a18f18e48>],\n",
       " 'boxes': [<matplotlib.lines.Line2D at 0x1a18f0af98>],\n",
       " 'medians': [<matplotlib.lines.Line2D at 0x1a18f18f28>],\n",
       " 'fliers': [<matplotlib.lines.Line2D at 0x1a18f22518>],\n",
       " 'means': []}"
      ]
     },
     "execution_count": 109,
     "metadata": {},
     "output_type": "execute_result"
    },
    {
     "data": {
      "image/png": "[encoded data removed]",
      "text/plain": [
       "<Figure size 432x288 with 1 Axes>"
      ]
     },
     "metadata": {
      "needs_background": "light"
     },
     "output_type": "display_data"
    }
   ],
   "source": [
    "#Displaying boxplot for Free throw attempts since it has a correlation coefficient of .22\n",
    "plt.boxplot('FTA', data = forwards)"
   ]
  },
  {
   "cell_type": "code",
   "execution_count": 148,
   "metadata": {},
   "outputs": [
    {
     "data": {
      "text/plain": [
       "Unnamed: 0   -0.152080\n",
       "season        0.150412\n",
       "NBA_Salary    0.892206\n",
       "Class              NaN\n",
       "G             0.376914\n",
       "MP            0.500661\n",
       "FG            0.193567\n",
       "FGA           0.122118\n",
       "2P            0.177422\n",
       "2PA           0.161880\n",
       "3P            0.019237\n",
       "3PA          -0.007706\n",
       "FT            0.406841\n",
       "FTA           0.422292\n",
       "ORB           0.270875\n",
       "DRB           0.444314\n",
       "TRB           0.423603\n",
       "AST           0.326197\n",
       "STL           0.553350\n",
       "BLK           0.209387\n",
       "TOV           0.118339\n",
       "PF            0.108208\n",
       "PTS           0.293302\n",
       "PPG           0.079681\n",
       "APG           0.262789\n",
       "TRB/G         0.256113\n",
       "STL/G         0.482509\n",
       "TOV/G        -0.019444\n",
       "BLK/G         0.124758\n",
       "3P%           0.035307\n",
       "FG%           0.113802\n",
       "eFG%          0.105657\n",
       "sal_as_%      1.000000\n",
       "Name: sal_as_%, dtype: float64"
      ]
     },
     "execution_count": 148,
     "metadata": {},
     "output_type": "execute_result"
    }
   ],
   "source": [
    "forwards_FR_r = forwards_FR.corr(method = 'pearson')\n",
    "forwards_FR_r.loc[:,'sal_as_%']"
   ]
  },
  {
   "cell_type": "code",
   "execution_count": 149,
   "metadata": {},
   "outputs": [
    {
     "data": {
      "text/plain": [
       "Unnamed: 0    0.061238\n",
       "season       -0.008665\n",
       "NBA_Salary    0.963409\n",
       "Class              NaN\n",
       "G             0.141378\n",
       "MP            0.183749\n",
       "FG            0.067785\n",
       "FGA           0.017348\n",
       "2P            0.072134\n",
       "2PA           0.024680\n",
       "3P           -0.034395\n",
       "3PA          -0.010642\n",
       "FT           -0.003789\n",
       "FTA           0.105112\n",
       "ORB          -0.055140\n",
       "DRB           0.085521\n",
       "TRB           0.044271\n",
       "AST           0.088190\n",
       "STL           0.357853\n",
       "BLK           0.030102\n",
       "TOV          -0.029321\n",
       "PF           -0.257053\n",
       "PTS           0.050419\n",
       "PPG          -0.027182\n",
       "APG           0.084100\n",
       "TRB/G        -0.010347\n",
       "STL/G         0.341033\n",
       "TOV/G        -0.085395\n",
       "BLK/G         0.004005\n",
       "3P%          -0.181109\n",
       "FG%           0.067125\n",
       "eFG%          0.067952\n",
       "sal_as_%      1.000000\n",
       "Name: sal_as_%, dtype: float64"
      ]
     },
     "execution_count": 149,
     "metadata": {},
     "output_type": "execute_result"
    }
   ],
   "source": [
    "forwards_SO_r = forwards_SO.corr(method = 'pearson')\n",
    "forwards_SO_r.loc[:,'sal_as_%']"
   ]
  },
  {
   "cell_type": "code",
   "execution_count": 150,
   "metadata": {},
   "outputs": [
    {
     "data": {
      "text/plain": [
       "Unnamed: 0   -0.275057\n",
       "season       -0.103071\n",
       "NBA_Salary    0.961702\n",
       "Class              NaN\n",
       "G             0.136160\n",
       "MP            0.016250\n",
       "FG            0.326056\n",
       "FGA           0.083134\n",
       "2P            0.314344\n",
       "2PA           0.203996\n",
       "3P           -0.101160\n",
       "3PA          -0.124634\n",
       "FT            0.189180\n",
       "FTA           0.213943\n",
       "ORB           0.000516\n",
       "DRB           0.153489\n",
       "TRB           0.103201\n",
       "AST          -0.002599\n",
       "STL          -0.060327\n",
       "BLK           0.028527\n",
       "TOV          -0.276603\n",
       "PF           -0.068675\n",
       "PTS           0.267774\n",
       "PPG           0.199960\n",
       "APG          -0.031730\n",
       "TRB/G         0.048248\n",
       "STL/G        -0.085018\n",
       "TOV/G        -0.313539\n",
       "BLK/G        -0.004002\n",
       "3P%          -0.357292\n",
       "FG%           0.335147\n",
       "eFG%          0.326659\n",
       "sal_as_%      1.000000\n",
       "Name: sal_as_%, dtype: float64"
      ]
     },
     "execution_count": 150,
     "metadata": {},
     "output_type": "execute_result"
    }
   ],
   "source": [
    "forwards_JR_r = forwards_JR.corr(method = 'pearson')\n",
    "forwards_JR_r.loc[:,'sal_as_%']"
   ]
  },
  {
   "cell_type": "code",
   "execution_count": 151,
   "metadata": {},
   "outputs": [
    {
     "data": {
      "text/plain": [
       "Unnamed: 0    0.125363\n",
       "season       -0.234615\n",
       "NBA_Salary    0.933727\n",
       "Class              NaN\n",
       "G             0.013485\n",
       "MP            0.159899\n",
       "FG            0.365749\n",
       "FGA           0.180608\n",
       "2P            0.277116\n",
       "2PA           0.223158\n",
       "3P           -0.043850\n",
       "3PA          -0.081187\n",
       "FT            0.271661\n",
       "FTA           0.221127\n",
       "ORB           0.297991\n",
       "DRB           0.218944\n",
       "TRB           0.268111\n",
       "AST           0.023559\n",
       "STL           0.130182\n",
       "BLK           0.330613\n",
       "TOV           0.186525\n",
       "PF            0.049538\n",
       "PTS           0.420885\n",
       "PPG           0.371533\n",
       "APG           0.034126\n",
       "TRB/G         0.255399\n",
       "STL/G         0.126836\n",
       "TOV/G         0.173927\n",
       "BLK/G         0.320715\n",
       "3P%           0.019284\n",
       "FG%           0.266918\n",
       "eFG%          0.234654\n",
       "sal_as_%      1.000000\n",
       "Name: sal_as_%, dtype: float64"
      ]
     },
     "execution_count": 151,
     "metadata": {},
     "output_type": "execute_result"
    }
   ],
   "source": [
    "forwards_SR_r = forwards_SR.corr(method = 'pearson')\n",
    "forwards_SR_r.loc[:,'sal_as_%']"
   ]
  },
  {
   "cell_type": "code",
   "execution_count": 69,
   "metadata": {},
   "outputs": [
    {
     "data": {
      "text/html": [
       "<div>\n",
       "<style scoped>\n",
       "    .dataframe tbody tr th:only-of-type {\n",
       "        vertical-align: middle;\n",
       "    }\n",
       "\n",
       "    .dataframe tbody tr th {\n",
       "        vertical-align: top;\n",
       "    }\n",
       "\n",
       "    .dataframe thead th {\n",
       "        text-align: right;\n",
       "    }\n",
       "</style>\n",
       "<table border=\"1\" class=\"dataframe\">\n",
       "  <thead>\n",
       "    <tr style=\"text-align: right;\">\n",
       "      <th></th>\n",
       "      <th>Unnamed: 0</th>\n",
       "      <th>MP</th>\n",
       "      <th>FG</th>\n",
       "      <th>FGA</th>\n",
       "      <th>2P</th>\n",
       "      <th>2PA</th>\n",
       "      <th>3P</th>\n",
       "      <th>3PA</th>\n",
       "      <th>FT</th>\n",
       "      <th>FTA</th>\n",
       "      <th>...</th>\n",
       "      <th>3P%</th>\n",
       "      <th>FG%</th>\n",
       "      <th>eFG%</th>\n",
       "      <th>Player</th>\n",
       "      <th>season</th>\n",
       "      <th>NBA_Salary</th>\n",
       "      <th>Class</th>\n",
       "      <th>Pos</th>\n",
       "      <th>cap</th>\n",
       "      <th>Sal_as_%</th>\n",
       "    </tr>\n",
       "  </thead>\n",
       "  <tbody>\n",
       "    <tr>\n",
       "      <th>5</th>\n",
       "      <td>5</td>\n",
       "      <td>36.0</td>\n",
       "      <td>9.141909</td>\n",
       "      <td>18.433195</td>\n",
       "      <td>6.931120</td>\n",
       "      <td>13.264730</td>\n",
       "      <td>2.210788</td>\n",
       "      <td>5.168465</td>\n",
       "      <td>7.170124</td>\n",
       "      <td>9.291286</td>\n",
       "      <td>...</td>\n",
       "      <td>0.012779</td>\n",
       "      <td>0.014817</td>\n",
       "      <td>0.016608</td>\n",
       "      <td>Adam Morrison</td>\n",
       "      <td>2006</td>\n",
       "      <td>3616680</td>\n",
       "      <td>3</td>\n",
       "      <td>F</td>\n",
       "      <td>53135000</td>\n",
       "      <td>0.068066</td>\n",
       "    </tr>\n",
       "    <tr>\n",
       "      <th>6</th>\n",
       "      <td>6</td>\n",
       "      <td>36.0</td>\n",
       "      <td>6.334910</td>\n",
       "      <td>10.421949</td>\n",
       "      <td>6.334910</td>\n",
       "      <td>10.353832</td>\n",
       "      <td>0.000000</td>\n",
       "      <td>0.068117</td>\n",
       "      <td>4.427625</td>\n",
       "      <td>6.879849</td>\n",
       "      <td>...</td>\n",
       "      <td>0.000000</td>\n",
       "      <td>0.020702</td>\n",
       "      <td>0.020702</td>\n",
       "      <td>Al Horford</td>\n",
       "      <td>2007</td>\n",
       "      <td>3745800</td>\n",
       "      <td>3</td>\n",
       "      <td>F</td>\n",
       "      <td>55630000</td>\n",
       "      <td>0.067334</td>\n",
       "    </tr>\n",
       "    <tr>\n",
       "      <th>8</th>\n",
       "      <td>8</td>\n",
       "      <td>36.0</td>\n",
       "      <td>6.197938</td>\n",
       "      <td>13.880412</td>\n",
       "      <td>5.529897</td>\n",
       "      <td>11.430928</td>\n",
       "      <td>0.668041</td>\n",
       "      <td>2.449485</td>\n",
       "      <td>5.158763</td>\n",
       "      <td>7.385567</td>\n",
       "      <td>...</td>\n",
       "      <td>0.010122</td>\n",
       "      <td>0.016572</td>\n",
       "      <td>0.017465</td>\n",
       "      <td>Al-Farouq Aminu</td>\n",
       "      <td>2010</td>\n",
       "      <td>981084</td>\n",
       "      <td>2</td>\n",
       "      <td>F</td>\n",
       "      <td>58044000</td>\n",
       "      <td>0.016902</td>\n",
       "    </tr>\n",
       "    <tr>\n",
       "      <th>16</th>\n",
       "      <td>16</td>\n",
       "      <td>36.0</td>\n",
       "      <td>8.264706</td>\n",
       "      <td>13.323529</td>\n",
       "      <td>8.000000</td>\n",
       "      <td>12.588235</td>\n",
       "      <td>0.264706</td>\n",
       "      <td>0.735294</td>\n",
       "      <td>4.235294</td>\n",
       "      <td>6.117647</td>\n",
       "      <td>...</td>\n",
       "      <td>0.010588</td>\n",
       "      <td>0.018244</td>\n",
       "      <td>0.018537</td>\n",
       "      <td>Andrew Bogut</td>\n",
       "      <td>2005</td>\n",
       "      <td>242224</td>\n",
       "      <td>2</td>\n",
       "      <td>F</td>\n",
       "      <td>49500000</td>\n",
       "      <td>0.004893</td>\n",
       "    </tr>\n",
       "    <tr>\n",
       "      <th>18</th>\n",
       "      <td>18</td>\n",
       "      <td>36.0</td>\n",
       "      <td>8.232848</td>\n",
       "      <td>14.407484</td>\n",
       "      <td>7.372141</td>\n",
       "      <td>12.424116</td>\n",
       "      <td>0.860707</td>\n",
       "      <td>1.983368</td>\n",
       "      <td>4.790021</td>\n",
       "      <td>6.174636</td>\n",
       "      <td>...</td>\n",
       "      <td>0.016240</td>\n",
       "      <td>0.021384</td>\n",
       "      <td>0.022502</td>\n",
       "      <td>Andrew Nicholson</td>\n",
       "      <td>2012</td>\n",
       "      <td>1418160</td>\n",
       "      <td>4</td>\n",
       "      <td>F</td>\n",
       "      <td>58044000</td>\n",
       "      <td>0.024432</td>\n",
       "    </tr>\n",
       "  </tbody>\n",
       "</table>\n",
       "<p>5 rows × 35 columns</p>\n",
       "</div>"
      ],
      "text/plain": [
       "    Unnamed: 0    MP        FG        FGA        2P        2PA        3P  \\\n",
       "5            5  36.0  9.141909  18.433195  6.931120  13.264730  2.210788   \n",
       "6            6  36.0  6.334910  10.421949  6.334910  10.353832  0.000000   \n",
       "8            8  36.0  6.197938  13.880412  5.529897  11.430928  0.668041   \n",
       "16          16  36.0  8.264706  13.323529  8.000000  12.588235  0.264706   \n",
       "18          18  36.0  8.232848  14.407484  7.372141  12.424116  0.860707   \n",
       "\n",
       "         3PA        FT       FTA  ...       3P%       FG%      eFG%  \\\n",
       "5   5.168465  7.170124  9.291286  ...  0.012779  0.014817  0.016608   \n",
       "6   0.068117  4.427625  6.879849  ...  0.000000  0.020702  0.020702   \n",
       "8   2.449485  5.158763  7.385567  ...  0.010122  0.016572  0.017465   \n",
       "16  0.735294  4.235294  6.117647  ...  0.010588  0.018244  0.018537   \n",
       "18  1.983368  4.790021  6.174636  ...  0.016240  0.021384  0.022502   \n",
       "\n",
       "              Player  season  NBA_Salary  Class  Pos       cap  Sal_as_%  \n",
       "5      Adam Morrison    2006     3616680      3    F  53135000  0.068066  \n",
       "6         Al Horford    2007     3745800      3    F  55630000  0.067334  \n",
       "8    Al-Farouq Aminu    2010      981084      2    F  58044000  0.016902  \n",
       "16      Andrew Bogut    2005      242224      2    F  49500000  0.004893  \n",
       "18  Andrew Nicholson    2012     1418160      4    F  58044000  0.024432  \n",
       "\n",
       "[5 rows x 35 columns]"
      ]
     },
     "execution_count": 69,
     "metadata": {},
     "output_type": "execute_result"
    }
   ],
   "source": [
    "#Querying by Forwards using per 36 stats\n",
    "forwards_36 = per_36.query('Pos == \"F\"')\n",
    "forwards_36.head()"
   ]
  },
  {
   "cell_type": "code",
   "execution_count": 96,
   "metadata": {},
   "outputs": [
    {
     "data": {
      "text/plain": [
       "Unnamed: 0   -0.113286\n",
       "MP                 NaN\n",
       "FG            0.096868\n",
       "FGA          -0.011289\n",
       "2P            0.145083\n",
       "2PA           0.105299\n",
       "3P           -0.120577\n",
       "3PA          -0.123260\n",
       "FT            0.123280\n",
       "FTA           0.165806\n",
       "ORB           0.111047\n",
       "DRB           0.188504\n",
       "TRB           0.175551\n",
       "AST           0.004050\n",
       "STL           0.136000\n",
       "BLK           0.170621\n",
       "TOV          -0.011492\n",
       "PF           -0.048977\n",
       "PTS           0.093736\n",
       "PPG          -0.005935\n",
       "APG          -0.016316\n",
       "TRB/G         0.102420\n",
       "STL/G         0.104414\n",
       "TOV/G        -0.058602\n",
       "BLK/G         0.130713\n",
       "3P%          -0.176601\n",
       "FG%           0.041284\n",
       "eFG%         -0.021619\n",
       "season        0.033310\n",
       "NBA_Salary    0.945104\n",
       "Class        -0.469883\n",
       "cap          -0.027539\n",
       "Sal_as_%      1.000000\n",
       "Name: Sal_as_%, dtype: float64"
      ]
     },
     "execution_count": 96,
     "metadata": {},
     "output_type": "execute_result"
    }
   ],
   "source": [
    "forwards_r_36 = forwards_36.corr(method = 'pearson')\n",
    "forwards_r_36.loc[:,'Sal_as_%']"
   ]
  },
  {
   "cell_type": "code",
   "execution_count": 171,
   "metadata": {},
   "outputs": [],
   "source": [
    "#Querying by Centers\n",
    "centers = salary.query('Pos == \"C\"')"
   ]
  },
  {
   "cell_type": "code",
   "execution_count": 158,
   "metadata": {},
   "outputs": [],
   "source": [
    "centers_FR = centers.query('Class == 1')\n",
    "centers_SO = centers.query('Class == 2')\n",
    "centers_JR = centers.query('Class == 3')\n",
    "centers_SR = centers.query('Class == 4')"
   ]
  },
  {
   "cell_type": "code",
   "execution_count": 159,
   "metadata": {},
   "outputs": [
    {
     "data": {
      "text/plain": [
       "Unnamed: 0   -0.026001\n",
       "season        0.141163\n",
       "NBA_Salary    0.953705\n",
       "Class        -0.624932\n",
       "G             0.180801\n",
       "MP            0.205264\n",
       "FG            0.305062\n",
       "FGA           0.180904\n",
       "2P            0.227416\n",
       "2PA           0.105349\n",
       "3P            0.198146\n",
       "3PA           0.172274\n",
       "FT            0.159150\n",
       "FTA           0.190359\n",
       "ORB           0.157779\n",
       "DRB           0.164515\n",
       "TRB           0.192633\n",
       "AST           0.123185\n",
       "STL           0.167873\n",
       "BLK          -0.044698\n",
       "TOV           0.318527\n",
       "PF           -0.232396\n",
       "PTS           0.350525\n",
       "PPG           0.208201\n",
       "APG           0.080549\n",
       "TRB/G         0.128586\n",
       "STL/G         0.133623\n",
       "TOV/G         0.262747\n",
       "BLK/G        -0.058675\n",
       "3P%          -0.028318\n",
       "FG%           0.155715\n",
       "eFG%          0.205991\n",
       "sal_as_%      1.000000\n",
       "Name: sal_as_%, dtype: float64"
      ]
     },
     "execution_count": 159,
     "metadata": {},
     "output_type": "execute_result"
    }
   ],
   "source": [
    "centers_r = centers.corr(method = 'pearson')\n",
    "centers_r.loc[:,'sal_as_%']"
   ]
  },
  {
   "cell_type": "code",
   "execution_count": null,
   "metadata": {},
   "outputs": [],
   "source": []
  },
  {
   "cell_type": "code",
   "execution_count": 111,
   "metadata": {},
   "outputs": [
    {
     "data": {
      "text/plain": [
       "{'whiskers': [<matplotlib.lines.Line2D at 0x1a18fe3fd0>,\n",
       "  <matplotlib.lines.Line2D at 0x1a18ff33c8>],\n",
       " 'caps': [<matplotlib.lines.Line2D at 0x1a18ff3710>,\n",
       "  <matplotlib.lines.Line2D at 0x1a18ff3a58>],\n",
       " 'boxes': [<matplotlib.lines.Line2D at 0x1a18fe3ba8>],\n",
       " 'medians': [<matplotlib.lines.Line2D at 0x1a18ff3da0>],\n",
       " 'fliers': [<matplotlib.lines.Line2D at 0x1a18ff3e80>],\n",
       " 'means': []}"
      ]
     },
     "execution_count": 111,
     "metadata": {},
     "output_type": "execute_result"
    },
    {
     "data": {
      "image/png": "[encoded data removed]",
      "text/plain": [
       "<Figure size 432x288 with 1 Axes>"
      ]
     },
     "metadata": {
      "needs_background": "light"
     },
     "output_type": "display_data"
    }
   ],
   "source": [
    "#Displaying boxplot for points queried by Centers\n",
    "plt.boxplot('PTS', data = centers)"
   ]
  },
  {
   "cell_type": "code",
   "execution_count": 112,
   "metadata": {},
   "outputs": [
    {
     "data": {
      "text/plain": [
       "{'whiskers': [<matplotlib.lines.Line2D at 0x1a1a0245c0>,\n",
       "  <matplotlib.lines.Line2D at 0x1a1a024978>],\n",
       " 'caps': [<matplotlib.lines.Line2D at 0x1a1a024cc0>,\n",
       "  <matplotlib.lines.Line2D at 0x1a1a024da0>],\n",
       " 'boxes': [<matplotlib.lines.Line2D at 0x1a1a024198>],\n",
       " 'medians': [<matplotlib.lines.Line2D at 0x1a1a02e390>],\n",
       " 'fliers': [<matplotlib.lines.Line2D at 0x1a1a02e6d8>],\n",
       " 'means': []}"
      ]
     },
     "execution_count": 112,
     "metadata": {},
     "output_type": "execute_result"
    },
    {
     "data": {
      "image/png": "[encoded data removed]",
      "text/plain": [
       "<Figure size 432x288 with 1 Axes>"
      ]
     },
     "metadata": {
      "needs_background": "light"
     },
     "output_type": "display_data"
    }
   ],
   "source": [
    "plt.boxplot('FG', data = centers)"
   ]
  },
  {
   "cell_type": "code",
   "execution_count": 100,
   "metadata": {},
   "outputs": [
    {
     "data": {
      "text/html": [
       "<div>\n",
       "<style scoped>\n",
       "    .dataframe tbody tr th:only-of-type {\n",
       "        vertical-align: middle;\n",
       "    }\n",
       "\n",
       "    .dataframe tbody tr th {\n",
       "        vertical-align: top;\n",
       "    }\n",
       "\n",
       "    .dataframe thead th {\n",
       "        text-align: right;\n",
       "    }\n",
       "</style>\n",
       "<table border=\"1\" class=\"dataframe\">\n",
       "  <thead>\n",
       "    <tr style=\"text-align: right;\">\n",
       "      <th></th>\n",
       "      <th>Unnamed: 0</th>\n",
       "      <th>MP</th>\n",
       "      <th>FG</th>\n",
       "      <th>FGA</th>\n",
       "      <th>2P</th>\n",
       "      <th>2PA</th>\n",
       "      <th>3P</th>\n",
       "      <th>3PA</th>\n",
       "      <th>FT</th>\n",
       "      <th>FTA</th>\n",
       "      <th>...</th>\n",
       "      <th>3P%</th>\n",
       "      <th>FG%</th>\n",
       "      <th>eFG%</th>\n",
       "      <th>Player</th>\n",
       "      <th>season</th>\n",
       "      <th>NBA_Salary</th>\n",
       "      <th>Class</th>\n",
       "      <th>Pos</th>\n",
       "      <th>cap</th>\n",
       "      <th>Sal_as_%</th>\n",
       "    </tr>\n",
       "  </thead>\n",
       "  <tbody>\n",
       "    <tr>\n",
       "      <th>0</th>\n",
       "      <td>0</td>\n",
       "      <td>36.0</td>\n",
       "      <td>8.811808</td>\n",
       "      <td>14.878229</td>\n",
       "      <td>8.546125</td>\n",
       "      <td>14.391144</td>\n",
       "      <td>0.265683</td>\n",
       "      <td>0.487085</td>\n",
       "      <td>3.985240</td>\n",
       "      <td>5.623616</td>\n",
       "      <td>...</td>\n",
       "      <td>0.024153</td>\n",
       "      <td>0.026226</td>\n",
       "      <td>0.026621</td>\n",
       "      <td>A.J. Hammons</td>\n",
       "      <td>2016</td>\n",
       "      <td>650000</td>\n",
       "      <td>4</td>\n",
       "      <td>C</td>\n",
       "      <td>94143000</td>\n",
       "      <td>0.006904</td>\n",
       "    </tr>\n",
       "    <tr>\n",
       "      <th>3</th>\n",
       "      <td>3</td>\n",
       "      <td>36.0</td>\n",
       "      <td>7.228346</td>\n",
       "      <td>12.791339</td>\n",
       "      <td>7.228346</td>\n",
       "      <td>12.791339</td>\n",
       "      <td>0.000000</td>\n",
       "      <td>0.000000</td>\n",
       "      <td>3.224409</td>\n",
       "      <td>5.881890</td>\n",
       "      <td>...</td>\n",
       "      <td>0.000000</td>\n",
       "      <td>0.020023</td>\n",
       "      <td>0.020023</td>\n",
       "      <td>Aaron Gray</td>\n",
       "      <td>2007</td>\n",
       "      <td>427163</td>\n",
       "      <td>4</td>\n",
       "      <td>C</td>\n",
       "      <td>55630000</td>\n",
       "      <td>0.007679</td>\n",
       "    </tr>\n",
       "    <tr>\n",
       "      <th>44</th>\n",
       "      <td>44</td>\n",
       "      <td>36.0</td>\n",
       "      <td>5.580645</td>\n",
       "      <td>11.677419</td>\n",
       "      <td>4.935484</td>\n",
       "      <td>9.548387</td>\n",
       "      <td>0.645161</td>\n",
       "      <td>2.129032</td>\n",
       "      <td>4.290323</td>\n",
       "      <td>5.354839</td>\n",
       "      <td>...</td>\n",
       "      <td>0.009775</td>\n",
       "      <td>0.015416</td>\n",
       "      <td>0.016307</td>\n",
       "      <td>Brian Scalabrine</td>\n",
       "      <td>2001</td>\n",
       "      <td>332817</td>\n",
       "      <td>4</td>\n",
       "      <td>C</td>\n",
       "      <td>42500000</td>\n",
       "      <td>0.007831</td>\n",
       "    </tr>\n",
       "    <tr>\n",
       "      <th>55</th>\n",
       "      <td>55</td>\n",
       "      <td>36.0</td>\n",
       "      <td>8.338369</td>\n",
       "      <td>12.543807</td>\n",
       "      <td>8.338369</td>\n",
       "      <td>12.507553</td>\n",
       "      <td>0.000000</td>\n",
       "      <td>0.036254</td>\n",
       "      <td>6.453172</td>\n",
       "      <td>8.555891</td>\n",
       "      <td>...</td>\n",
       "      <td>0.000000</td>\n",
       "      <td>0.024099</td>\n",
       "      <td>0.024099</td>\n",
       "      <td>Carlos Boozer</td>\n",
       "      <td>2002</td>\n",
       "      <td>349458</td>\n",
       "      <td>3</td>\n",
       "      <td>C</td>\n",
       "      <td>40271000</td>\n",
       "      <td>0.008678</td>\n",
       "    </tr>\n",
       "    <tr>\n",
       "      <th>59</th>\n",
       "      <td>59</td>\n",
       "      <td>36.0</td>\n",
       "      <td>7.118467</td>\n",
       "      <td>12.857143</td>\n",
       "      <td>7.024390</td>\n",
       "      <td>12.324042</td>\n",
       "      <td>0.094077</td>\n",
       "      <td>0.533101</td>\n",
       "      <td>3.982578</td>\n",
       "      <td>4.797909</td>\n",
       "      <td>...</td>\n",
       "      <td>0.005534</td>\n",
       "      <td>0.017362</td>\n",
       "      <td>0.017477</td>\n",
       "      <td>Channing Frye</td>\n",
       "      <td>2005</td>\n",
       "      <td>2000000</td>\n",
       "      <td>4</td>\n",
       "      <td>C</td>\n",
       "      <td>49500000</td>\n",
       "      <td>0.040404</td>\n",
       "    </tr>\n",
       "  </tbody>\n",
       "</table>\n",
       "<p>5 rows × 35 columns</p>\n",
       "</div>"
      ],
      "text/plain": [
       "    Unnamed: 0    MP        FG        FGA        2P        2PA        3P  \\\n",
       "0            0  36.0  8.811808  14.878229  8.546125  14.391144  0.265683   \n",
       "3            3  36.0  7.228346  12.791339  7.228346  12.791339  0.000000   \n",
       "44          44  36.0  5.580645  11.677419  4.935484   9.548387  0.645161   \n",
       "55          55  36.0  8.338369  12.543807  8.338369  12.507553  0.000000   \n",
       "59          59  36.0  7.118467  12.857143  7.024390  12.324042  0.094077   \n",
       "\n",
       "         3PA        FT       FTA  ...       3P%       FG%      eFG%  \\\n",
       "0   0.487085  3.985240  5.623616  ...  0.024153  0.026226  0.026621   \n",
       "3   0.000000  3.224409  5.881890  ...  0.000000  0.020023  0.020023   \n",
       "44  2.129032  4.290323  5.354839  ...  0.009775  0.015416  0.016307   \n",
       "55  0.036254  6.453172  8.555891  ...  0.000000  0.024099  0.024099   \n",
       "59  0.533101  3.982578  4.797909  ...  0.005534  0.017362  0.017477   \n",
       "\n",
       "              Player  season  NBA_Salary  Class  Pos       cap  Sal_as_%  \n",
       "0       A.J. Hammons    2016      650000      4    C  94143000  0.006904  \n",
       "3         Aaron Gray    2007      427163      4    C  55630000  0.007679  \n",
       "44  Brian Scalabrine    2001      332817      4    C  42500000  0.007831  \n",
       "55     Carlos Boozer    2002      349458      3    C  40271000  0.008678  \n",
       "59     Channing Frye    2005     2000000      4    C  49500000  0.040404  \n",
       "\n",
       "[5 rows x 35 columns]"
      ]
     },
     "execution_count": 100,
     "metadata": {},
     "output_type": "execute_result"
    }
   ],
   "source": [
    "#Querying by Centers using per 36 stats\n",
    "centers_36 = per_36.query('Pos == \"C\"')\n",
    "centers_36.head()"
   ]
  },
  {
   "cell_type": "code",
   "execution_count": 101,
   "metadata": {},
   "outputs": [
    {
     "data": {
      "text/plain": [
       "Unnamed: 0   -0.026001\n",
       "MP                 NaN\n",
       "FG            0.137808\n",
       "FGA           0.032045\n",
       "2P            0.066532\n",
       "2PA          -0.046289\n",
       "3P            0.187624\n",
       "3PA           0.163567\n",
       "FT            0.056961\n",
       "FTA           0.078604\n",
       "ORB           0.068284\n",
       "DRB           0.044079\n",
       "TRB           0.062994\n",
       "AST           0.079623\n",
       "STL           0.123758\n",
       "BLK          -0.094868\n",
       "TOV           0.263825\n",
       "PF           -0.278473\n",
       "PTS           0.172758\n",
       "PPG           0.052263\n",
       "APG           0.031601\n",
       "TRB/G         0.006490\n",
       "STL/G         0.095909\n",
       "TOV/G         0.207014\n",
       "BLK/G        -0.101256\n",
       "3P%          -0.056912\n",
       "FG%          -0.056924\n",
       "eFG%         -0.036268\n",
       "season        0.141163\n",
       "NBA_Salary    0.953705\n",
       "Class        -0.624932\n",
       "cap           0.045289\n",
       "Sal_as_%      1.000000\n",
       "Name: Sal_as_%, dtype: float64"
      ]
     },
     "execution_count": 101,
     "metadata": {},
     "output_type": "execute_result"
    }
   ],
   "source": [
    "centers_r_36 = centers_36.corr(method = 'pearson')\n",
    "centers_r_36.loc[:,'Sal_as_%']"
   ]
  },
  {
   "cell_type": "markdown",
   "metadata": {},
   "source": [
    "Once I had queried by position, I found that stats that are not normally associated with the position most contributed to a higher rookie salary. For Guards the stat that had the highest correlation with higher salary was blocks (r = .25). For forwards that was rebounds (r = .23) and free throw attempts (r = 22). This translates to the forwards' willingness to get inside and draw contact. For centers the highest correlation coefficients were points (r = .35) and field goals (r = .31). Most notably, the players that stand out the most are exceptional in areas where they are not typically supposed to. "
   ]
  },
  {
   "cell_type": "code",
   "execution_count": null,
   "metadata": {},
   "outputs": [],
   "source": []
  }
 ],
 "metadata": {
  "kernelspec": {
   "display_name": "Python 3",
   "language": "python",
   "name": "python3"
  },
  "language_info": {
   "codemirror_mode": {
    "name": "ipython",
    "version": 3
   },
   "file_extension": ".py",
   "mimetype": "text/x-python",
   "name": "python",
   "nbconvert_exporter": "python",
   "pygments_lexer": "ipython3",
   "version": "3.7.3"
  }
 },
 "nbformat": 4,
 "nbformat_minor": 2
}
